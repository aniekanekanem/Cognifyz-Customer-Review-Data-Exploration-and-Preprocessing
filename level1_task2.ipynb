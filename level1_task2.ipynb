{
 "cells": [
  {
   "cell_type": "markdown",
   "metadata": {},
   "source": [
    "**Task2: Descriptive Analysis**\n",
    "\n",
    "Task lists:\n",
    "\n",
    "1. Calculate basic statistical measures (mean, median, standard deviation, etc.) for numerical\n",
    "columns.\n",
    "\n",
    "2. Explore the distribution of categorical variables like \"Country Code\", \"City\", and \"Cuisines\"\n",
    "\n",
    "3. Identify the top cuisines and cities with the highest number of restaurants."
   ]
  },
  {
   "cell_type": "code",
   "execution_count": 73,
   "metadata": {},
   "outputs": [],
   "source": [
    "# importing libraries\n",
    "import pandas as pd\n",
    "import numpy as np\n",
    "import matplotlib.pyplot as plt\n",
    "import seaborn as sns"
   ]
  },
  {
   "cell_type": "code",
   "execution_count": 74,
   "metadata": {},
   "outputs": [],
   "source": [
    "# importing dataset\n",
    "new_data = pd.read_csv('new_data.csv')"
   ]
  },
  {
   "cell_type": "code",
   "execution_count": 75,
   "metadata": {},
   "outputs": [
    {
     "data": {
      "text/html": [
       "<div>\n",
       "<style scoped>\n",
       "    .dataframe tbody tr th:only-of-type {\n",
       "        vertical-align: middle;\n",
       "    }\n",
       "\n",
       "    .dataframe tbody tr th {\n",
       "        vertical-align: top;\n",
       "    }\n",
       "\n",
       "    .dataframe thead th {\n",
       "        text-align: right;\n",
       "    }\n",
       "</style>\n",
       "<table border=\"1\" class=\"dataframe\">\n",
       "  <thead>\n",
       "    <tr style=\"text-align: right;\">\n",
       "      <th></th>\n",
       "      <th>Restaurant ID</th>\n",
       "      <th>Restaurant Name</th>\n",
       "      <th>Country Code</th>\n",
       "      <th>City</th>\n",
       "      <th>Address</th>\n",
       "      <th>Locality</th>\n",
       "      <th>Locality Verbose</th>\n",
       "      <th>Longitude</th>\n",
       "      <th>Latitude</th>\n",
       "      <th>Cuisines</th>\n",
       "      <th>...</th>\n",
       "      <th>Currency</th>\n",
       "      <th>Has Table booking</th>\n",
       "      <th>Has Online delivery</th>\n",
       "      <th>Is delivering now</th>\n",
       "      <th>Switch to order menu</th>\n",
       "      <th>Price range</th>\n",
       "      <th>Aggregate rating</th>\n",
       "      <th>Rating color</th>\n",
       "      <th>Rating text</th>\n",
       "      <th>Votes</th>\n",
       "    </tr>\n",
       "  </thead>\n",
       "  <tbody>\n",
       "    <tr>\n",
       "      <th>0</th>\n",
       "      <td>6317637</td>\n",
       "      <td>Le Petit Souffle</td>\n",
       "      <td>162</td>\n",
       "      <td>Makati City</td>\n",
       "      <td>Third Floor, Century City Mall, Kalayaan Avenu...</td>\n",
       "      <td>Century City Mall, Poblacion, Makati City</td>\n",
       "      <td>Century City Mall, Poblacion, Makati City, Mak...</td>\n",
       "      <td>121.027535</td>\n",
       "      <td>14.565443</td>\n",
       "      <td>French, Japanese, Desserts</td>\n",
       "      <td>...</td>\n",
       "      <td>Botswana Pula(P)</td>\n",
       "      <td>Yes</td>\n",
       "      <td>No</td>\n",
       "      <td>No</td>\n",
       "      <td>No</td>\n",
       "      <td>3</td>\n",
       "      <td>4.8</td>\n",
       "      <td>Dark Green</td>\n",
       "      <td>Excellent</td>\n",
       "      <td>314</td>\n",
       "    </tr>\n",
       "    <tr>\n",
       "      <th>1</th>\n",
       "      <td>6304287</td>\n",
       "      <td>Izakaya Kikufuji</td>\n",
       "      <td>162</td>\n",
       "      <td>Makati City</td>\n",
       "      <td>Little Tokyo, 2277 Chino Roces Avenue, Legaspi...</td>\n",
       "      <td>Little Tokyo, Legaspi Village, Makati City</td>\n",
       "      <td>Little Tokyo, Legaspi Village, Makati City, Ma...</td>\n",
       "      <td>121.014101</td>\n",
       "      <td>14.553708</td>\n",
       "      <td>Japanese</td>\n",
       "      <td>...</td>\n",
       "      <td>Botswana Pula(P)</td>\n",
       "      <td>Yes</td>\n",
       "      <td>No</td>\n",
       "      <td>No</td>\n",
       "      <td>No</td>\n",
       "      <td>3</td>\n",
       "      <td>4.5</td>\n",
       "      <td>Dark Green</td>\n",
       "      <td>Excellent</td>\n",
       "      <td>591</td>\n",
       "    </tr>\n",
       "    <tr>\n",
       "      <th>2</th>\n",
       "      <td>6300002</td>\n",
       "      <td>Heat - Edsa Shangri-La</td>\n",
       "      <td>162</td>\n",
       "      <td>Mandaluyong City</td>\n",
       "      <td>Edsa Shangri-La, 1 Garden Way, Ortigas, Mandal...</td>\n",
       "      <td>Edsa Shangri-La, Ortigas, Mandaluyong City</td>\n",
       "      <td>Edsa Shangri-La, Ortigas, Mandaluyong City, Ma...</td>\n",
       "      <td>121.056831</td>\n",
       "      <td>14.581404</td>\n",
       "      <td>Seafood, Asian, Filipino, Indian</td>\n",
       "      <td>...</td>\n",
       "      <td>Botswana Pula(P)</td>\n",
       "      <td>Yes</td>\n",
       "      <td>No</td>\n",
       "      <td>No</td>\n",
       "      <td>No</td>\n",
       "      <td>4</td>\n",
       "      <td>4.4</td>\n",
       "      <td>Green</td>\n",
       "      <td>Very Good</td>\n",
       "      <td>270</td>\n",
       "    </tr>\n",
       "    <tr>\n",
       "      <th>3</th>\n",
       "      <td>6318506</td>\n",
       "      <td>Ooma</td>\n",
       "      <td>162</td>\n",
       "      <td>Mandaluyong City</td>\n",
       "      <td>Third Floor, Mega Fashion Hall, SM Megamall, O...</td>\n",
       "      <td>SM Megamall, Ortigas, Mandaluyong City</td>\n",
       "      <td>SM Megamall, Ortigas, Mandaluyong City, Mandal...</td>\n",
       "      <td>121.056475</td>\n",
       "      <td>14.585318</td>\n",
       "      <td>Japanese, Sushi</td>\n",
       "      <td>...</td>\n",
       "      <td>Botswana Pula(P)</td>\n",
       "      <td>No</td>\n",
       "      <td>No</td>\n",
       "      <td>No</td>\n",
       "      <td>No</td>\n",
       "      <td>4</td>\n",
       "      <td>4.9</td>\n",
       "      <td>Dark Green</td>\n",
       "      <td>Excellent</td>\n",
       "      <td>365</td>\n",
       "    </tr>\n",
       "    <tr>\n",
       "      <th>4</th>\n",
       "      <td>6314302</td>\n",
       "      <td>Sambo Kojin</td>\n",
       "      <td>162</td>\n",
       "      <td>Mandaluyong City</td>\n",
       "      <td>Third Floor, Mega Atrium, SM Megamall, Ortigas...</td>\n",
       "      <td>SM Megamall, Ortigas, Mandaluyong City</td>\n",
       "      <td>SM Megamall, Ortigas, Mandaluyong City, Mandal...</td>\n",
       "      <td>121.057508</td>\n",
       "      <td>14.584450</td>\n",
       "      <td>Japanese, Korean</td>\n",
       "      <td>...</td>\n",
       "      <td>Botswana Pula(P)</td>\n",
       "      <td>Yes</td>\n",
       "      <td>No</td>\n",
       "      <td>No</td>\n",
       "      <td>No</td>\n",
       "      <td>4</td>\n",
       "      <td>4.8</td>\n",
       "      <td>Dark Green</td>\n",
       "      <td>Excellent</td>\n",
       "      <td>229</td>\n",
       "    </tr>\n",
       "  </tbody>\n",
       "</table>\n",
       "<p>5 rows × 21 columns</p>\n",
       "</div>"
      ],
      "text/plain": [
       "   Restaurant ID         Restaurant Name  Country Code              City  \\\n",
       "0        6317637        Le Petit Souffle           162       Makati City   \n",
       "1        6304287        Izakaya Kikufuji           162       Makati City   \n",
       "2        6300002  Heat - Edsa Shangri-La           162  Mandaluyong City   \n",
       "3        6318506                    Ooma           162  Mandaluyong City   \n",
       "4        6314302             Sambo Kojin           162  Mandaluyong City   \n",
       "\n",
       "                                             Address  \\\n",
       "0  Third Floor, Century City Mall, Kalayaan Avenu...   \n",
       "1  Little Tokyo, 2277 Chino Roces Avenue, Legaspi...   \n",
       "2  Edsa Shangri-La, 1 Garden Way, Ortigas, Mandal...   \n",
       "3  Third Floor, Mega Fashion Hall, SM Megamall, O...   \n",
       "4  Third Floor, Mega Atrium, SM Megamall, Ortigas...   \n",
       "\n",
       "                                     Locality  \\\n",
       "0   Century City Mall, Poblacion, Makati City   \n",
       "1  Little Tokyo, Legaspi Village, Makati City   \n",
       "2  Edsa Shangri-La, Ortigas, Mandaluyong City   \n",
       "3      SM Megamall, Ortigas, Mandaluyong City   \n",
       "4      SM Megamall, Ortigas, Mandaluyong City   \n",
       "\n",
       "                                    Locality Verbose   Longitude   Latitude  \\\n",
       "0  Century City Mall, Poblacion, Makati City, Mak...  121.027535  14.565443   \n",
       "1  Little Tokyo, Legaspi Village, Makati City, Ma...  121.014101  14.553708   \n",
       "2  Edsa Shangri-La, Ortigas, Mandaluyong City, Ma...  121.056831  14.581404   \n",
       "3  SM Megamall, Ortigas, Mandaluyong City, Mandal...  121.056475  14.585318   \n",
       "4  SM Megamall, Ortigas, Mandaluyong City, Mandal...  121.057508  14.584450   \n",
       "\n",
       "                           Cuisines  ...          Currency Has Table booking  \\\n",
       "0        French, Japanese, Desserts  ...  Botswana Pula(P)               Yes   \n",
       "1                          Japanese  ...  Botswana Pula(P)               Yes   \n",
       "2  Seafood, Asian, Filipino, Indian  ...  Botswana Pula(P)               Yes   \n",
       "3                   Japanese, Sushi  ...  Botswana Pula(P)                No   \n",
       "4                  Japanese, Korean  ...  Botswana Pula(P)               Yes   \n",
       "\n",
       "  Has Online delivery Is delivering now Switch to order menu Price range  \\\n",
       "0                  No                No                   No           3   \n",
       "1                  No                No                   No           3   \n",
       "2                  No                No                   No           4   \n",
       "3                  No                No                   No           4   \n",
       "4                  No                No                   No           4   \n",
       "\n",
       "   Aggregate rating  Rating color Rating text Votes  \n",
       "0               4.8    Dark Green   Excellent   314  \n",
       "1               4.5    Dark Green   Excellent   591  \n",
       "2               4.4         Green   Very Good   270  \n",
       "3               4.9    Dark Green   Excellent   365  \n",
       "4               4.8    Dark Green   Excellent   229  \n",
       "\n",
       "[5 rows x 21 columns]"
      ]
     },
     "execution_count": 75,
     "metadata": {},
     "output_type": "execute_result"
    }
   ],
   "source": [
    "new_data.head()"
   ]
  },
  {
   "cell_type": "code",
   "execution_count": 76,
   "metadata": {},
   "outputs": [
    {
     "data": {
      "text/html": [
       "<div>\n",
       "<style scoped>\n",
       "    .dataframe tbody tr th:only-of-type {\n",
       "        vertical-align: middle;\n",
       "    }\n",
       "\n",
       "    .dataframe tbody tr th {\n",
       "        vertical-align: top;\n",
       "    }\n",
       "\n",
       "    .dataframe thead th {\n",
       "        text-align: right;\n",
       "    }\n",
       "</style>\n",
       "<table border=\"1\" class=\"dataframe\">\n",
       "  <thead>\n",
       "    <tr style=\"text-align: right;\">\n",
       "      <th></th>\n",
       "      <th>Restaurant ID</th>\n",
       "      <th>Country Code</th>\n",
       "      <th>Longitude</th>\n",
       "      <th>Latitude</th>\n",
       "      <th>Average Cost for two</th>\n",
       "      <th>Price range</th>\n",
       "      <th>Aggregate rating</th>\n",
       "      <th>Votes</th>\n",
       "    </tr>\n",
       "  </thead>\n",
       "  <tbody>\n",
       "    <tr>\n",
       "      <th>count</th>\n",
       "      <td>9.551000e+03</td>\n",
       "      <td>9551.000000</td>\n",
       "      <td>9551.000000</td>\n",
       "      <td>9551.000000</td>\n",
       "      <td>9551.000000</td>\n",
       "      <td>9551.000000</td>\n",
       "      <td>9551.000000</td>\n",
       "      <td>9551.000000</td>\n",
       "    </tr>\n",
       "    <tr>\n",
       "      <th>mean</th>\n",
       "      <td>9.051128e+06</td>\n",
       "      <td>18.365616</td>\n",
       "      <td>64.126574</td>\n",
       "      <td>25.854381</td>\n",
       "      <td>1199.210763</td>\n",
       "      <td>1.804837</td>\n",
       "      <td>2.666370</td>\n",
       "      <td>156.909748</td>\n",
       "    </tr>\n",
       "    <tr>\n",
       "      <th>std</th>\n",
       "      <td>8.791521e+06</td>\n",
       "      <td>56.750546</td>\n",
       "      <td>41.467058</td>\n",
       "      <td>11.007935</td>\n",
       "      <td>16121.183073</td>\n",
       "      <td>0.905609</td>\n",
       "      <td>1.516378</td>\n",
       "      <td>430.169145</td>\n",
       "    </tr>\n",
       "    <tr>\n",
       "      <th>min</th>\n",
       "      <td>5.300000e+01</td>\n",
       "      <td>1.000000</td>\n",
       "      <td>-157.948486</td>\n",
       "      <td>-41.330428</td>\n",
       "      <td>0.000000</td>\n",
       "      <td>1.000000</td>\n",
       "      <td>0.000000</td>\n",
       "      <td>0.000000</td>\n",
       "    </tr>\n",
       "    <tr>\n",
       "      <th>25%</th>\n",
       "      <td>3.019625e+05</td>\n",
       "      <td>1.000000</td>\n",
       "      <td>77.081343</td>\n",
       "      <td>28.478713</td>\n",
       "      <td>250.000000</td>\n",
       "      <td>1.000000</td>\n",
       "      <td>2.500000</td>\n",
       "      <td>5.000000</td>\n",
       "    </tr>\n",
       "    <tr>\n",
       "      <th>50%</th>\n",
       "      <td>6.004089e+06</td>\n",
       "      <td>1.000000</td>\n",
       "      <td>77.191964</td>\n",
       "      <td>28.570469</td>\n",
       "      <td>400.000000</td>\n",
       "      <td>2.000000</td>\n",
       "      <td>3.200000</td>\n",
       "      <td>31.000000</td>\n",
       "    </tr>\n",
       "    <tr>\n",
       "      <th>75%</th>\n",
       "      <td>1.835229e+07</td>\n",
       "      <td>1.000000</td>\n",
       "      <td>77.282006</td>\n",
       "      <td>28.642758</td>\n",
       "      <td>700.000000</td>\n",
       "      <td>2.000000</td>\n",
       "      <td>3.700000</td>\n",
       "      <td>131.000000</td>\n",
       "    </tr>\n",
       "    <tr>\n",
       "      <th>max</th>\n",
       "      <td>1.850065e+07</td>\n",
       "      <td>216.000000</td>\n",
       "      <td>174.832089</td>\n",
       "      <td>55.976980</td>\n",
       "      <td>800000.000000</td>\n",
       "      <td>4.000000</td>\n",
       "      <td>4.900000</td>\n",
       "      <td>10934.000000</td>\n",
       "    </tr>\n",
       "  </tbody>\n",
       "</table>\n",
       "</div>"
      ],
      "text/plain": [
       "       Restaurant ID  Country Code    Longitude     Latitude  \\\n",
       "count   9.551000e+03   9551.000000  9551.000000  9551.000000   \n",
       "mean    9.051128e+06     18.365616    64.126574    25.854381   \n",
       "std     8.791521e+06     56.750546    41.467058    11.007935   \n",
       "min     5.300000e+01      1.000000  -157.948486   -41.330428   \n",
       "25%     3.019625e+05      1.000000    77.081343    28.478713   \n",
       "50%     6.004089e+06      1.000000    77.191964    28.570469   \n",
       "75%     1.835229e+07      1.000000    77.282006    28.642758   \n",
       "max     1.850065e+07    216.000000   174.832089    55.976980   \n",
       "\n",
       "       Average Cost for two  Price range  Aggregate rating         Votes  \n",
       "count           9551.000000  9551.000000       9551.000000   9551.000000  \n",
       "mean            1199.210763     1.804837          2.666370    156.909748  \n",
       "std            16121.183073     0.905609          1.516378    430.169145  \n",
       "min                0.000000     1.000000          0.000000      0.000000  \n",
       "25%              250.000000     1.000000          2.500000      5.000000  \n",
       "50%              400.000000     2.000000          3.200000     31.000000  \n",
       "75%              700.000000     2.000000          3.700000    131.000000  \n",
       "max           800000.000000     4.000000          4.900000  10934.000000  "
      ]
     },
     "execution_count": 76,
     "metadata": {},
     "output_type": "execute_result"
    }
   ],
   "source": [
    "# checking the descriptive statistics\n",
    "new_data.describe()"
   ]
  },
  {
   "cell_type": "markdown",
   "metadata": {},
   "source": [
    "In trying to work on this task, I noticed the country code and the currency do not correspond to the respective city, address, and locality.  For this reason, caution may be observed when working on the statistics based on Price range and Average Cost for two."
   ]
  },
  {
   "cell_type": "code",
   "execution_count": 77,
   "metadata": {},
   "outputs": [
    {
     "name": "stdout",
     "output_type": "stream",
     "text": [
      "<class 'pandas.core.frame.DataFrame'>\n",
      "RangeIndex: 9551 entries, 0 to 9550\n",
      "Data columns (total 21 columns):\n",
      " #   Column                Non-Null Count  Dtype  \n",
      "---  ------                --------------  -----  \n",
      " 0   Restaurant ID         9551 non-null   int64  \n",
      " 1   Restaurant Name       9551 non-null   object \n",
      " 2   Country Code          9551 non-null   int64  \n",
      " 3   City                  9551 non-null   object \n",
      " 4   Address               9551 non-null   object \n",
      " 5   Locality              9551 non-null   object \n",
      " 6   Locality Verbose      9551 non-null   object \n",
      " 7   Longitude             9551 non-null   float64\n",
      " 8   Latitude              9551 non-null   float64\n",
      " 9   Cuisines              9542 non-null   object \n",
      " 10  Average Cost for two  9551 non-null   int64  \n",
      " 11  Currency              9551 non-null   object \n",
      " 12  Has Table booking     9551 non-null   object \n",
      " 13  Has Online delivery   9551 non-null   object \n",
      " 14  Is delivering now     9551 non-null   object \n",
      " 15  Switch to order menu  9551 non-null   object \n",
      " 16  Price range           9551 non-null   int64  \n",
      " 17  Aggregate rating      9551 non-null   float64\n",
      " 18  Rating color          9551 non-null   object \n",
      " 19  Rating text           9551 non-null   object \n",
      " 20  Votes                 9551 non-null   int64  \n",
      "dtypes: float64(3), int64(5), object(13)\n",
      "memory usage: 1.5+ MB\n"
     ]
    }
   ],
   "source": [
    "# checking the data type of each column\n",
    "new_data.info()"
   ]
  },
  {
   "cell_type": "markdown",
   "metadata": {},
   "source": [
    "**1. Basic statistical calculations for numerical columns**\n",
    "\n",
    "numerical columns that could be studied based on their statistics such as mean, median, mode, standard deviation, minimum, and maximum include the following:\n",
    "\n",
    "i.   Average Cost for two\n",
    "\n",
    "ii.  Price range\n",
    "\n",
    "iii. Aggregate rating\n",
    "\n",
    "iv.  Votes"
   ]
  },
  {
   "cell_type": "markdown",
   "metadata": {},
   "source": [
    "**i. Basic statistics on the 'Average Cost for two'**"
   ]
  },
  {
   "cell_type": "code",
   "execution_count": 78,
   "metadata": {},
   "outputs": [
    {
     "data": {
      "text/plain": [
       "Currency\n",
       "Botswana Pula(P)            1606.818182\n",
       "Brazilian Real(R$)           134.666667\n",
       "Dollar($)                     31.510373\n",
       "Emirati Diram(AED)           166.416667\n",
       "Indian Rupees(Rs.)           623.370319\n",
       "Indonesian Rupiah(IDR)    281190.476190\n",
       "NewZealand($)                 69.750000\n",
       "Pounds()                      47.812500\n",
       "Qatari Rial(QR)              223.750000\n",
       "Rand(R)                      419.733333\n",
       "Sri Lankan Rupee(LKR)       2375.000000\n",
       "Turkish Lira(TL)              84.852941\n",
       "Name: Average Cost for two, dtype: float64"
      ]
     },
     "execution_count": 78,
     "metadata": {},
     "output_type": "execute_result"
    }
   ],
   "source": [
    "# Getting the mean value of the Average Cost for two\n",
    "mean_average_cost_for_two_per_currency = new_data.groupby('Currency')['Average Cost for two'].mean()\n",
    "mean_average_cost_for_two_per_currency"
   ]
  },
  {
   "cell_type": "code",
   "execution_count": 79,
   "metadata": {},
   "outputs": [
    {
     "data": {
      "text/plain": [
       "Currency\n",
       "Botswana Pula(P)            1150.0\n",
       "Brazilian Real(R$)           100.0\n",
       "Dollar($)                     25.0\n",
       "Emirati Diram(AED)           145.0\n",
       "Indian Rupees(Rs.)           450.0\n",
       "Indonesian Rupiah(IDR)    200000.0\n",
       "NewZealand($)                 60.0\n",
       "Pounds()                      40.0\n",
       "Qatari Rial(QR)              185.0\n",
       "Rand(R)                      340.0\n",
       "Sri Lankan Rupee(LKR)       2200.0\n",
       "Turkish Lira(TL)              70.0\n",
       "Name: Average Cost for two, dtype: float64"
      ]
     },
     "execution_count": 79,
     "metadata": {},
     "output_type": "execute_result"
    }
   ],
   "source": [
    "# Getting the median value of the Average Cost for two\n",
    "median_average_cost_for_two_per_currency = new_data.groupby('Currency')['Average Cost for two'].median()\n",
    "median_average_cost_for_two_per_currency"
   ]
  },
  {
   "cell_type": "code",
   "execution_count": 80,
   "metadata": {},
   "outputs": [
    {
     "data": {
      "text/plain": [
       "'\\nThe above codes will result in the errors \"AttributeError: \\'SeriesGroupBy\\' object has no attribute \\'mode\\'\" and \"ValueError: Must produce aggregated value\" respectively\\nThis is because the series column \\'Average Cost for two\\' has multiple modal values as the code needs to return just one mode.  to resolve this, there will be need to aggregate the values returned.\\n'"
      ]
     },
     "execution_count": 80,
     "metadata": {},
     "output_type": "execute_result"
    }
   ],
   "source": [
    "# Getting the modal value(s) of the Average Cost for two\n",
    "\n",
    "'''Trial 1''' \n",
    "# modal_average_cost_for_two_per_currency = new_data.groupby('Currency')['Average Cost for two'].mode()\n",
    "# modal_average_cost_for_two_per_currency\n",
    "\n",
    "'''Trial 2'''\n",
    "# modal_average_cost_for_two_per_currency = new_data.groupby('Currency')['Average Cost for two'].agg(pd.Series.mode)\n",
    "# modal_average_cost_for_two_per_currency\n",
    "\n",
    "'''\n",
    "The above codes will result in the errors \"AttributeError: 'SeriesGroupBy' object has no attribute 'mode'\" and \"ValueError: Must produce aggregated value\" respectively\n",
    "This is because the series column 'Average Cost for two' has multiple modal values as the code needs to return just one mode.  to resolve this, there will be need to aggregate the values returned.\n",
    "'''"
   ]
  },
  {
   "cell_type": "code",
   "execution_count": 81,
   "metadata": {},
   "outputs": [
    {
     "data": {
      "text/plain": [
       "Currency\n",
       "Botswana Pula(P)              [800, 1500]\n",
       "Brazilian Real(R$)                  [100]\n",
       "Dollar($)                            [25]\n",
       "Emirati Diram(AED)        [100, 150, 250]\n",
       "Indian Rupees(Rs.)                  [500]\n",
       "Indonesian Rupiah(IDR)           [200000]\n",
       "NewZealand($)                        [50]\n",
       "Pounds()                             [30]\n",
       "Qatari Rial(QR)                     [250]\n",
       "Rand(R)                             [250]\n",
       "Sri Lankan Rupee(LKR)              [2000]\n",
       "Turkish Lira(TL)                 [70, 80]\n",
       "Name: Average Cost for two, dtype: object"
      ]
     },
     "execution_count": 81,
     "metadata": {},
     "output_type": "execute_result"
    }
   ],
   "source": [
    "# Method 1 handling multiple modes\n",
    "\n",
    "# Group by 'Currency' and calculate the mode of 'Average Cost for two'\n",
    "def get_modes(series):\n",
    "    return series.mode().tolist()  # Convert mode series to a list\n",
    "\n",
    "# Apply the custom function\n",
    "modal_average_cost_for_two_per_currency = new_data.groupby('Currency')['Average Cost for two'].apply(get_modes)\n",
    "modal_average_cost_for_two_per_currency"
   ]
  },
  {
   "cell_type": "code",
   "execution_count": 82,
   "metadata": {},
   "outputs": [
    {
     "data": {
      "text/plain": [
       "Currency                 \n",
       "Botswana Pula(P)        0       800\n",
       "                        1      1500\n",
       "Brazilian Real(R$)      0       100\n",
       "Dollar($)               0        25\n",
       "Emirati Diram(AED)      0       100\n",
       "                        1       150\n",
       "                        2       250\n",
       "Indian Rupees(Rs.)      0       500\n",
       "Indonesian Rupiah(IDR)  0    200000\n",
       "NewZealand($)           0        50\n",
       "Pounds()                0        30\n",
       "Qatari Rial(QR)         0       250\n",
       "Rand(R)                 0       250\n",
       "Sri Lankan Rupee(LKR)   0      2000\n",
       "Turkish Lira(TL)        0        70\n",
       "                        1        80\n",
       "Name: Average Cost for two, dtype: int64"
      ]
     },
     "execution_count": 82,
     "metadata": {},
     "output_type": "execute_result"
    }
   ],
   "source": [
    "# Method 2 handling of multiple modes\n",
    "\n",
    "modal_average_cost_for_two_per_currency = new_data.groupby('Currency')['Average Cost for two'].apply(lambda x: x.mode())\n",
    "modal_average_cost_for_two_per_currency"
   ]
  },
  {
   "cell_type": "code",
   "execution_count": 83,
   "metadata": {},
   "outputs": [
    {
     "name": "stdout",
     "output_type": "stream",
     "text": [
      "Currency\n",
      "Botswana Pula(P)             800\n",
      "Brazilian Real(R$)           100\n",
      "Dollar($)                     25\n",
      "Emirati Diram(AED)           100\n",
      "Indian Rupees(Rs.)           500\n",
      "Indonesian Rupiah(IDR)    200000\n",
      "NewZealand($)                 50\n",
      "Pounds()                      30\n",
      "Qatari Rial(QR)              250\n",
      "Rand(R)                      250\n",
      "Sri Lankan Rupee(LKR)       2000\n",
      "Turkish Lira(TL)              70\n",
      "Name: Average Cost for two, dtype: int64\n"
     ]
    }
   ],
   "source": [
    "# Handling single mode\n",
    "\n",
    "# Function to return the mode or handle multiple modes\n",
    "def get_mode(series):\n",
    "    modes = series.mode()\n",
    "    if not modes.empty:\n",
    "        return modes.iloc[0]  # Return the first mode if there are multiple\n",
    "    return None\n",
    "\n",
    "# Group by 'Currency' and calculate the mode of 'Average Cost for two'\n",
    "single_modal_average_cost_for_two_per_currency = new_data.groupby('Currency')['Average Cost for two'].apply(get_mode)\n",
    "\n",
    "print(single_modal_average_cost_for_two_per_currency)"
   ]
  },
  {
   "cell_type": "code",
   "execution_count": 84,
   "metadata": {},
   "outputs": [
    {
     "data": {
      "text/plain": [
       "Currency\n",
       "Botswana Pula(P)            1268.510136\n",
       "Brazilian Real(R$)            86.831547\n",
       "Dollar($)                     41.879355\n",
       "Emirati Diram(AED)           109.969532\n",
       "Indian Rupees(Rs.)           595.676124\n",
       "Indonesian Rupiah(IDR)    203543.022245\n",
       "NewZealand($)                 37.824663\n",
       "Pounds()                      34.520621\n",
       "Qatari Rial(QR)              147.905331\n",
       "Rand(R)                      422.196069\n",
       "Sri Lankan Rupee(LKR)       1035.615759\n",
       "Turkish Lira(TL)              64.555418\n",
       "Name: Average Cost for two, dtype: float64"
      ]
     },
     "execution_count": 84,
     "metadata": {},
     "output_type": "execute_result"
    }
   ],
   "source": [
    "# Getting the standard deviation of the \"Average Cost for two\"\n",
    "standardDev_average_cost_for_two_per_currency = new_data.groupby('Currency')['Average Cost for two'].std()\n",
    "standardDev_average_cost_for_two_per_currency"
   ]
  },
  {
   "cell_type": "markdown",
   "metadata": {},
   "source": [
    "i**i. Basic statistics on the 'Price range'**"
   ]
  },
  {
   "cell_type": "code",
   "execution_count": 85,
   "metadata": {},
   "outputs": [
    {
     "data": {
      "text/plain": [
       "Currency\n",
       "Botswana Pula(P)          3.363636\n",
       "Brazilian Real(R$)        3.400000\n",
       "Dollar($)                 2.120332\n",
       "Emirati Diram(AED)        3.216667\n",
       "Indian Rupees(Rs.)        1.721683\n",
       "Indonesian Rupiah(IDR)    2.952381\n",
       "NewZealand($)             3.150000\n",
       "Pounds()                  2.750000\n",
       "Qatari Rial(QR)           3.650000\n",
       "Rand(R)                   3.583333\n",
       "Sri Lankan Rupee(LKR)     2.850000\n",
       "Turkish Lira(TL)          2.823529\n",
       "Name: Price range, dtype: float64"
      ]
     },
     "execution_count": 85,
     "metadata": {},
     "output_type": "execute_result"
    }
   ],
   "source": [
    "# Getting the mean value of the 'Price range'\n",
    "mean_price_range_per_currency = new_data.groupby('Currency')['Price range'].mean()\n",
    "mean_price_range_per_currency"
   ]
  },
  {
   "cell_type": "code",
   "execution_count": 86,
   "metadata": {},
   "outputs": [
    {
     "data": {
      "text/plain": [
       "Currency\n",
       "Botswana Pula(P)          3.0\n",
       "Brazilian Real(R$)        4.0\n",
       "Dollar($)                 2.0\n",
       "Emirati Diram(AED)        3.0\n",
       "Indian Rupees(Rs.)        2.0\n",
       "Indonesian Rupiah(IDR)    3.0\n",
       "NewZealand($)             3.0\n",
       "Pounds()                  3.0\n",
       "Qatari Rial(QR)           4.0\n",
       "Rand(R)                   4.0\n",
       "Sri Lankan Rupee(LKR)     3.0\n",
       "Turkish Lira(TL)          3.0\n",
       "Name: Price range, dtype: float64"
      ]
     },
     "execution_count": 86,
     "metadata": {},
     "output_type": "execute_result"
    }
   ],
   "source": [
    "# Getting the median value of the 'Price range'\n",
    "median_price_range_per_currency = new_data.groupby('Currency')['Price range'].median()\n",
    "median_price_range_per_currency"
   ]
  },
  {
   "cell_type": "code",
   "execution_count": 87,
   "metadata": {},
   "outputs": [
    {
     "data": {
      "text/plain": [
       "Currency                 \n",
       "Botswana Pula(P)        0    3\n",
       "Brazilian Real(R$)      0    4\n",
       "Dollar($)               0    2\n",
       "Emirati Diram(AED)      0    3\n",
       "Indian Rupees(Rs.)      0    1\n",
       "Indonesian Rupiah(IDR)  0    3\n",
       "NewZealand($)           0    3\n",
       "Pounds()                0    3\n",
       "Qatari Rial(QR)         0    4\n",
       "Rand(R)                 0    4\n",
       "Sri Lankan Rupee(LKR)   0    3\n",
       "Turkish Lira(TL)        0    3\n",
       "Name: Price range, dtype: int64"
      ]
     },
     "execution_count": 87,
     "metadata": {},
     "output_type": "execute_result"
    }
   ],
   "source": [
    "# Getting the modal value(s) of the 'Price range'\n",
    "modal_price_range_per_currency = new_data.groupby('Currency')['Price range'].apply(lambda x: x.mode())\n",
    "modal_price_range_per_currency"
   ]
  },
  {
   "cell_type": "code",
   "execution_count": 88,
   "metadata": {},
   "outputs": [
    {
     "data": {
      "text/plain": [
       "Currency\n",
       "Botswana Pula(P)          0.581087\n",
       "Brazilian Real(R$)        0.827494\n",
       "Dollar($)                 0.922147\n",
       "Emirati Diram(AED)        0.691147\n",
       "Indian Rupees(Rs.)        0.852544\n",
       "Indonesian Rupiah(IDR)    0.218218\n",
       "NewZealand($)             0.892993\n",
       "Pounds()                  0.834388\n",
       "Qatari Rial(QR)           0.587143\n",
       "Rand(R)                   0.618683\n",
       "Sri Lankan Rupee(LKR)     0.670820\n",
       "Turkish Lira(TL)          0.672877\n",
       "Name: Price range, dtype: float64"
      ]
     },
     "execution_count": 88,
     "metadata": {},
     "output_type": "execute_result"
    }
   ],
   "source": [
    "# Getting the standard deviation of the 'price range'\n",
    "standardDev_price_range_per_currency = new_data.groupby('Currency')['Price range'].std()\n",
    "standardDev_price_range_per_currency"
   ]
  },
  {
   "cell_type": "markdown",
   "metadata": {},
   "source": [
    "**iii. Basic statistics on the 'Aggregate rating'**"
   ]
  },
  {
   "cell_type": "code",
   "execution_count": 89,
   "metadata": {},
   "outputs": [
    {
     "data": {
      "text/plain": [
       "2.66637001361114"
      ]
     },
     "execution_count": 89,
     "metadata": {},
     "output_type": "execute_result"
    }
   ],
   "source": [
    "# Getting the mean 'Aggregate rating'\n",
    "mean_aggregate_rating = new_data['Aggregate rating'].mean()\n",
    "mean_aggregate_rating"
   ]
  },
  {
   "cell_type": "code",
   "execution_count": 90,
   "metadata": {},
   "outputs": [
    {
     "data": {
      "text/plain": [
       "3.2"
      ]
     },
     "execution_count": 90,
     "metadata": {},
     "output_type": "execute_result"
    }
   ],
   "source": [
    "# Getting the median 'Aggregate rating'\n",
    "median_aggregate_rating = new_data['Aggregate rating'].median()\n",
    "median_aggregate_rating"
   ]
  },
  {
   "cell_type": "code",
   "execution_count": 91,
   "metadata": {},
   "outputs": [
    {
     "data": {
      "text/plain": [
       "0    0.0\n",
       "Name: Aggregate rating, dtype: float64"
      ]
     },
     "execution_count": 91,
     "metadata": {},
     "output_type": "execute_result"
    }
   ],
   "source": [
    "# Getting the modal 'Aggregate rating'\n",
    "modal_aggregate_rating = new_data['Aggregate rating'].mode()\n",
    "modal_aggregate_rating"
   ]
  },
  {
   "cell_type": "code",
   "execution_count": 92,
   "metadata": {},
   "outputs": [
    {
     "data": {
      "text/plain": [
       "Aggregate rating\n",
       "0.0    2148\n",
       "3.2     522\n",
       "3.1     519\n",
       "3.4     498\n",
       "3.3     483\n",
       "3.5     480\n",
       "3.0     468\n",
       "3.6     458\n",
       "3.7     427\n",
       "3.8     400\n",
       "2.9     381\n",
       "3.9     335\n",
       "2.8     315\n",
       "4.1     274\n",
       "4.0     266\n",
       "2.7     250\n",
       "4.2     221\n",
       "2.6     191\n",
       "4.3     174\n",
       "4.4     144\n",
       "2.5     110\n",
       "4.5      95\n",
       "2.4      87\n",
       "4.6      78\n",
       "4.9      61\n",
       "2.3      47\n",
       "4.7      42\n",
       "2.2      27\n",
       "4.8      25\n",
       "2.1      15\n",
       "2.0       7\n",
       "1.9       2\n",
       "1.8       1\n",
       "Name: count, dtype: int64"
      ]
     },
     "execution_count": 92,
     "metadata": {},
     "output_type": "execute_result"
    }
   ],
   "source": [
    "# Confirming/checking modal Aggregate rating\n",
    "new_data['Aggregate rating'].value_counts()"
   ]
  },
  {
   "cell_type": "code",
   "execution_count": 93,
   "metadata": {},
   "outputs": [
    {
     "data": {
      "text/plain": [
       "1.5163775396521328"
      ]
     },
     "execution_count": 93,
     "metadata": {},
     "output_type": "execute_result"
    }
   ],
   "source": [
    "# Getting the standard deviation of the 'Aggegate rating'\n",
    "standardDev_aggregate_rating = new_data['Aggregate rating'].std()\n",
    "standardDev_aggregate_rating"
   ]
  },
  {
   "cell_type": "code",
   "execution_count": 94,
   "metadata": {},
   "outputs": [
    {
     "data": {
      "image/png": "[encoded data removed]",
      "text/plain": [
       "<Figure size 640x480 with 1 Axes>"
      ]
     },
     "metadata": {},
     "output_type": "display_data"
    }
   ],
   "source": [
    "# Getting the upper and lower fence to check for outliers on Aggregate rating\n",
    "Q1 = new_data['Aggregate rating'].quantile(0.25)\n",
    "Q3 = new_data['Aggregate rating'].quantile(0.75)\n",
    "Q2 = new_data['Aggregate rating'].quantile(0.5)\n",
    "IQR = Q3 - Q1\n",
    "IQR\n",
    "Q1\n",
    "Q2\n",
    "Q3\n",
    "upper_fence = Q3 + (1.5 * IQR)\n",
    "lower_fence = Q1 - (1.5 * IQR)\n",
    "\n",
    "# Creating a box plot to indicate the location of upper fence and lower fence using vertical lines\n",
    "sns.boxplot(x=new_data['Aggregate rating'])\n",
    "\n",
    "# Optional: Add vertical lines for upper and lower fences\n",
    "plt.axvline(x=upper_fence, color='r', linestyle='--', label='Upper Fence')\n",
    "plt.axvline(x=lower_fence, color='b', linestyle='--', label='Lower Fence')\n",
    "\n",
    "plt.legend()\n",
    "plt.title('Box Plot with Custom Fences')\n",
    "plt.xlabel('Aggregate rating')\n",
    "plt.show()"
   ]
  },
  {
   "cell_type": "markdown",
   "metadata": {},
   "source": [
    "The mean aggregate rating is 2.7, the median is 3.2, and the standard dev is 1.5\n",
    "\n",
    "The Aggregate rating as seen above contains outliers which will affect getting the true mean of the data.  Instead the focus will now be on the median value which is 3.2.  On this note, as seen above an Aggregate rating of 3.2 suggests the folowing:\n",
    "\n",
    "- Central Tendency: The median of 3.2 suggests that half of the ratings are below 3.2, and half are above it.  This means that 3.2 is the middle point of the data when it is sorted in ascending order.\n",
    "\n",
    "- Moderate Rating: In many rating scales (e.g., 1 to 5), a median of 3.2 is relatively close to the middle of the scale, indicating that the overall sentiment or evaluation tends toward the middle or average rather than being strongly positive or negative. It reflects a moderate level of satisfaction or approval.  Hence, this shows that there are moderate appreciation by the customers on the business operations.  \n",
    "\n",
    "And since the standard deviation is 1.5, it means most ratings are within 1.5 ratings of the mean rating of 2.7 i.e 2.7 ± 1.5 (4.2 or 1.2) suggesting a moderate amount of variability in the ratings.\n",
    "\n",
    "However, there are more 0 Aggregate rating by many customers compared to other ratings in the amount of 2148 zero ratings which calls for concern on the businesses affected.\n",
    "\n",
    "So further investigation will need to be carried out on reasons why these businesses are having 0 customer ratings.\n"
   ]
  },
  {
   "cell_type": "markdown",
   "metadata": {},
   "source": [
    "**iv. Basic statistics on the 'Votes' amount**"
   ]
  },
  {
   "cell_type": "code",
   "execution_count": 136,
   "metadata": {},
   "outputs": [
    {
     "data": {
      "text/plain": [
       "Votes\n",
       "0      1094\n",
       "1       483\n",
       "2       327\n",
       "3       244\n",
       "4       207\n",
       "       ... \n",
       "615       1\n",
       "538       1\n",
       "823       1\n",
       "650       1\n",
       "901       1\n",
       "Name: count, Length: 1012, dtype: int64"
      ]
     },
     "execution_count": 136,
     "metadata": {},
     "output_type": "execute_result"
    }
   ],
   "source": [
    "vote_counts = new_data['Votes'].value_counts()\n",
    "vote_counts"
   ]
  },
  {
   "cell_type": "code",
   "execution_count": 96,
   "metadata": {},
   "outputs": [
    {
     "data": {
      "text/plain": [
       "156.909747670401"
      ]
     },
     "execution_count": 96,
     "metadata": {},
     "output_type": "execute_result"
    }
   ],
   "source": [
    "# Getting the mean 'Votes' amount\n",
    "mean_votes = new_data['Votes'].mean()\n",
    "mean_votes"
   ]
  },
  {
   "cell_type": "code",
   "execution_count": 97,
   "metadata": {},
   "outputs": [
    {
     "data": {
      "text/plain": [
       "31.0"
      ]
     },
     "execution_count": 97,
     "metadata": {},
     "output_type": "execute_result"
    }
   ],
   "source": [
    "# Getting the median 'Votes' amount\n",
    "median_votes = new_data['Votes'].median()\n",
    "median_votes"
   ]
  },
  {
   "cell_type": "code",
   "execution_count": 98,
   "metadata": {},
   "outputs": [
    {
     "data": {
      "text/plain": [
       "0    0\n",
       "Name: Votes, dtype: int64"
      ]
     },
     "execution_count": 98,
     "metadata": {},
     "output_type": "execute_result"
    }
   ],
   "source": [
    "# Getting the modal 'Votes'\n",
    "modal_votes =  new_data['Votes'].mode()\n",
    "modal_votes"
   ]
  },
  {
   "cell_type": "code",
   "execution_count": 99,
   "metadata": {},
   "outputs": [
    {
     "data": {
      "text/plain": [
       "430.1691453762912"
      ]
     },
     "execution_count": 99,
     "metadata": {},
     "output_type": "execute_result"
    }
   ],
   "source": [
    "# Getting the standard deviation of the 'Votes' amount\n",
    "standardDev_votes = new_data['Votes'].std()\n",
    "standardDev_votes"
   ]
  },
  {
   "cell_type": "code",
   "execution_count": 100,
   "metadata": {},
   "outputs": [
    {
     "data": {
      "image/png": "[encoded data removed]",
      "text/plain": [
       "<Figure size 640x480 with 1 Axes>"
      ]
     },
     "metadata": {},
     "output_type": "display_data"
    }
   ],
   "source": [
    "# Getting the upper and lower fence to check for outliers on votes\n",
    "Q1_vote = new_data['Votes'].quantile(0.25)\n",
    "Q3_vote = new_data['Votes'].quantile(0.75)\n",
    "Q2_vote = new_data['Votes'].quantile(0.5)\n",
    "IQR_vote = Q3_vote - Q1_vote\n",
    "IQR_vote\n",
    "Q1_vote\n",
    "Q2_vote\n",
    "Q3_vote\n",
    "upper_fence_vote = Q3_vote + (1.5 * IQR_vote)\n",
    "lower_fence_vote = Q1_vote - (1.5 * IQR_vote)\n",
    "\n",
    "# Creating a box plot to indicate the location of upper fence and lower fence using vertical lines\n",
    "sns.boxplot(x=new_data['Votes'])\n",
    "\n",
    "# Optional: Add vertical lines for upper and lower fences\n",
    "plt.axvline(x=upper_fence_vote, color='r', linestyle='--', label='Upper Fence')\n",
    "plt.axvline(x=lower_fence_vote, color='b', linestyle='--', label='Lower Fence')\n",
    "\n",
    "plt.legend()\n",
    "plt.title('Box Plot with Custom Fences')\n",
    "plt.xlabel('Votes')\n",
    "plt.show()"
   ]
  },
  {
   "cell_type": "markdown",
   "metadata": {},
   "source": [
    "The mean votes is 156.9, the median is 31.0, and the standard dev is 430.2\n",
    "\n",
    "There are outliers observed to as high as over 10000 votes and so the focus will now be on the median value which is 31.0.  This value will suggests the folowing:\n",
    "\n",
    "- Central Tendency: The median of 31.0 suggests that some of the Votes amount are below 31.0, and some are above it.  This makes 31.0 the middle point of the data when it is sorted in ascending order.\n",
    "\n",
    "- Lower Votes amount: In many voting amount for each restaurant, a median of 31 is relatively close to the lower end of the Voting amounts, indicating that the overall sentiment or evaluation tends towards the left side of the Voting scale. It reflects extreme cases of low level of voting activities at the left and high leve; of voting activities to the right.  Hence, this shows that there are extreme cases of voting activities by customers at both ends with little voting activities at the middle which kind of suggest irregularity in the voting patterns of customers in response to the services they received from the various businesses.  \n",
    "\n",
    "So if the standard deviation is 430.2, this will indicate most voting amount are within 430.2 Votings of the mean Voting of 156.9 i.e 156.9 ± 430.2 (587.1 or -273.3) suggesting extreme case of variability in the Voting amount.\n",
    "\n",
    "However, there are 1094 non Voting participation by many customers compared to other Voting amount."
   ]
  },
  {
   "cell_type": "markdown",
   "metadata": {},
   "source": [
    "**2. Getting the distributions of Country Code, City, and Cuisines**\n",
    "\n",
    "i. Distribution of Country Code"
   ]
  },
  {
   "cell_type": "code",
   "execution_count": 101,
   "metadata": {},
   "outputs": [
    {
     "data": {
      "text/plain": [
       "Country Code\n",
       "1      8652\n",
       "216     434\n",
       "215      80\n",
       "30       60\n",
       "214      60\n",
       "189      60\n",
       "148      40\n",
       "208      34\n",
       "14       24\n",
       "162      22\n",
       "94       21\n",
       "184      20\n",
       "166      20\n",
       "191      20\n",
       "37        4\n",
       "Name: count, dtype: int64"
      ]
     },
     "execution_count": 101,
     "metadata": {},
     "output_type": "execute_result"
    }
   ],
   "source": [
    "# Getting the counts of each country code\n",
    "country_code_count = new_data['Country Code'].value_counts()\n",
    "country_code_count"
   ]
  },
  {
   "cell_type": "code",
   "execution_count": 102,
   "metadata": {},
   "outputs": [
    {
     "data": {
      "text/plain": [
       "15"
      ]
     },
     "execution_count": 102,
     "metadata": {},
     "output_type": "execute_result"
    }
   ],
   "source": [
    "# Getting to know the number of unique country code\n",
    "new_data['Country Code'].nunique()"
   ]
  },
  {
   "cell_type": "code",
   "execution_count": 103,
   "metadata": {},
   "outputs": [
    {
     "data": {
      "text/html": [
       "<div>\n",
       "<style scoped>\n",
       "    .dataframe tbody tr th:only-of-type {\n",
       "        vertical-align: middle;\n",
       "    }\n",
       "\n",
       "    .dataframe tbody tr th {\n",
       "        vertical-align: top;\n",
       "    }\n",
       "\n",
       "    .dataframe thead th {\n",
       "        text-align: right;\n",
       "    }\n",
       "</style>\n",
       "<table border=\"1\" class=\"dataframe\">\n",
       "  <thead>\n",
       "    <tr style=\"text-align: right;\">\n",
       "      <th></th>\n",
       "      <th>Country Code</th>\n",
       "      <th>count</th>\n",
       "    </tr>\n",
       "  </thead>\n",
       "  <tbody>\n",
       "    <tr>\n",
       "      <th>0</th>\n",
       "      <td>1</td>\n",
       "      <td>8652</td>\n",
       "    </tr>\n",
       "    <tr>\n",
       "      <th>1</th>\n",
       "      <td>216</td>\n",
       "      <td>434</td>\n",
       "    </tr>\n",
       "    <tr>\n",
       "      <th>2</th>\n",
       "      <td>215</td>\n",
       "      <td>80</td>\n",
       "    </tr>\n",
       "    <tr>\n",
       "      <th>3</th>\n",
       "      <td>30</td>\n",
       "      <td>60</td>\n",
       "    </tr>\n",
       "    <tr>\n",
       "      <th>4</th>\n",
       "      <td>214</td>\n",
       "      <td>60</td>\n",
       "    </tr>\n",
       "    <tr>\n",
       "      <th>5</th>\n",
       "      <td>189</td>\n",
       "      <td>60</td>\n",
       "    </tr>\n",
       "    <tr>\n",
       "      <th>6</th>\n",
       "      <td>148</td>\n",
       "      <td>40</td>\n",
       "    </tr>\n",
       "    <tr>\n",
       "      <th>7</th>\n",
       "      <td>208</td>\n",
       "      <td>34</td>\n",
       "    </tr>\n",
       "    <tr>\n",
       "      <th>8</th>\n",
       "      <td>14</td>\n",
       "      <td>24</td>\n",
       "    </tr>\n",
       "    <tr>\n",
       "      <th>9</th>\n",
       "      <td>162</td>\n",
       "      <td>22</td>\n",
       "    </tr>\n",
       "    <tr>\n",
       "      <th>10</th>\n",
       "      <td>94</td>\n",
       "      <td>21</td>\n",
       "    </tr>\n",
       "    <tr>\n",
       "      <th>11</th>\n",
       "      <td>184</td>\n",
       "      <td>20</td>\n",
       "    </tr>\n",
       "    <tr>\n",
       "      <th>12</th>\n",
       "      <td>166</td>\n",
       "      <td>20</td>\n",
       "    </tr>\n",
       "    <tr>\n",
       "      <th>13</th>\n",
       "      <td>191</td>\n",
       "      <td>20</td>\n",
       "    </tr>\n",
       "    <tr>\n",
       "      <th>14</th>\n",
       "      <td>37</td>\n",
       "      <td>4</td>\n",
       "    </tr>\n",
       "  </tbody>\n",
       "</table>\n",
       "</div>"
      ],
      "text/plain": [
       "    Country Code  count\n",
       "0              1   8652\n",
       "1            216    434\n",
       "2            215     80\n",
       "3             30     60\n",
       "4            214     60\n",
       "5            189     60\n",
       "6            148     40\n",
       "7            208     34\n",
       "8             14     24\n",
       "9            162     22\n",
       "10            94     21\n",
       "11           184     20\n",
       "12           166     20\n",
       "13           191     20\n",
       "14            37      4"
      ]
     },
     "execution_count": 103,
     "metadata": {},
     "output_type": "execute_result"
    }
   ],
   "source": [
    "# Creating a dataframe for plotting the country code\n",
    "country_code_count = country_code_count.reset_index()\n",
    "country_code_count"
   ]
  },
  {
   "cell_type": "markdown",
   "metadata": {},
   "source": [
    "The above shows there are 15 countries in this study"
   ]
  },
  {
   "cell_type": "code",
   "execution_count": 146,
   "metadata": {},
   "outputs": [
    {
     "data": {
      "image/png": "[encoded data removed]",
      "text/plain": [
       "<Figure size 1200x600 with 1 Axes>"
      ]
     },
     "metadata": {},
     "output_type": "display_data"
    }
   ],
   "source": [
    "# Bar distribution plot for country code\n",
    "plt.figure(figsize=(12, 6))  # Increase figure size\n",
    "plt.bar(country_code_count['Country Code'], country_code_count['count'], width = 0.6)   #OR\n",
    "\n",
    "# plt.bar(country_code_count['Country Code'], country_code_count['count'].astype(str)) # Convert codes to strings for better x-axis labeling\n",
    "\n",
    "# Customize plot\n",
    "plt.xlabel('Country Code')\n",
    "plt.ylabel('Count')\n",
    "plt.title('Counts of Each Country Code')\n",
    "plt.xticks(rotation=45)  # Rotate x-axis labels for readability\n",
    "plt.grid(axis='y')  # Optional: add a grid for better readability\n",
    "\n",
    "# Customize x-axis ticks\n",
    "tick_positions = np.arange(0, max(country_code_count['Country Code']) + 10, 10)\n",
    "plt.xticks(ticks=tick_positions)\n",
    "\n",
    "# Set log scale for y-axis to help visualize both high and low counts more effectively for wide range of counts as this\n",
    "plt.yscale('log')\n",
    "\n",
    "# Show plot\n",
    "plt.tight_layout()  # Adjust layout to fit labels\n",
    "plt.show()"
   ]
  },
  {
   "cell_type": "markdown",
   "metadata": {},
   "source": [
    "The above plot shows that country code \"1\" had the highest business activities and 37 country code having the least business activities."
   ]
  },
  {
   "cell_type": "markdown",
   "metadata": {},
   "source": [
    "ii. Distribution of Cities"
   ]
  },
  {
   "cell_type": "code",
   "execution_count": 105,
   "metadata": {},
   "outputs": [
    {
     "data": {
      "text/plain": [
       "City\n",
       "New Delhi           5473\n",
       "Gurgaon             1118\n",
       "Noida               1080\n",
       "Faridabad            251\n",
       "Ghaziabad             25\n",
       "                    ... \n",
       "Panchkula              1\n",
       "Mc Millan              1\n",
       "Mayfield               1\n",
       "Macedon                1\n",
       "Vineland Station       1\n",
       "Name: count, Length: 141, dtype: int64"
      ]
     },
     "execution_count": 105,
     "metadata": {},
     "output_type": "execute_result"
    }
   ],
   "source": [
    "# Getting the counts of each city\n",
    "city_counts = new_data['City'].value_counts()\n",
    "city_counts"
   ]
  },
  {
   "cell_type": "code",
   "execution_count": 106,
   "metadata": {},
   "outputs": [
    {
     "data": {
      "text/plain": [
       "141"
      ]
     },
     "execution_count": 106,
     "metadata": {},
     "output_type": "execute_result"
    }
   ],
   "source": [
    "# Getting to know the number of unique cities\n",
    "new_data['City'].nunique()"
   ]
  },
  {
   "cell_type": "code",
   "execution_count": 107,
   "metadata": {},
   "outputs": [
    {
     "data": {
      "text/html": [
       "<div>\n",
       "<style scoped>\n",
       "    .dataframe tbody tr th:only-of-type {\n",
       "        vertical-align: middle;\n",
       "    }\n",
       "\n",
       "    .dataframe tbody tr th {\n",
       "        vertical-align: top;\n",
       "    }\n",
       "\n",
       "    .dataframe thead th {\n",
       "        text-align: right;\n",
       "    }\n",
       "</style>\n",
       "<table border=\"1\" class=\"dataframe\">\n",
       "  <thead>\n",
       "    <tr style=\"text-align: right;\">\n",
       "      <th></th>\n",
       "      <th>City</th>\n",
       "      <th>count</th>\n",
       "    </tr>\n",
       "  </thead>\n",
       "  <tbody>\n",
       "    <tr>\n",
       "      <th>0</th>\n",
       "      <td>New Delhi</td>\n",
       "      <td>5473</td>\n",
       "    </tr>\n",
       "    <tr>\n",
       "      <th>1</th>\n",
       "      <td>Gurgaon</td>\n",
       "      <td>1118</td>\n",
       "    </tr>\n",
       "    <tr>\n",
       "      <th>2</th>\n",
       "      <td>Noida</td>\n",
       "      <td>1080</td>\n",
       "    </tr>\n",
       "    <tr>\n",
       "      <th>3</th>\n",
       "      <td>Faridabad</td>\n",
       "      <td>251</td>\n",
       "    </tr>\n",
       "    <tr>\n",
       "      <th>4</th>\n",
       "      <td>Ghaziabad</td>\n",
       "      <td>25</td>\n",
       "    </tr>\n",
       "    <tr>\n",
       "      <th>...</th>\n",
       "      <td>...</td>\n",
       "      <td>...</td>\n",
       "    </tr>\n",
       "    <tr>\n",
       "      <th>136</th>\n",
       "      <td>Panchkula</td>\n",
       "      <td>1</td>\n",
       "    </tr>\n",
       "    <tr>\n",
       "      <th>137</th>\n",
       "      <td>Mc Millan</td>\n",
       "      <td>1</td>\n",
       "    </tr>\n",
       "    <tr>\n",
       "      <th>138</th>\n",
       "      <td>Mayfield</td>\n",
       "      <td>1</td>\n",
       "    </tr>\n",
       "    <tr>\n",
       "      <th>139</th>\n",
       "      <td>Macedon</td>\n",
       "      <td>1</td>\n",
       "    </tr>\n",
       "    <tr>\n",
       "      <th>140</th>\n",
       "      <td>Vineland Station</td>\n",
       "      <td>1</td>\n",
       "    </tr>\n",
       "  </tbody>\n",
       "</table>\n",
       "<p>141 rows × 2 columns</p>\n",
       "</div>"
      ],
      "text/plain": [
       "                 City  count\n",
       "0           New Delhi   5473\n",
       "1             Gurgaon   1118\n",
       "2               Noida   1080\n",
       "3           Faridabad    251\n",
       "4           Ghaziabad     25\n",
       "..                ...    ...\n",
       "136         Panchkula      1\n",
       "137         Mc Millan      1\n",
       "138          Mayfield      1\n",
       "139           Macedon      1\n",
       "140  Vineland Station      1\n",
       "\n",
       "[141 rows x 2 columns]"
      ]
     },
     "execution_count": 107,
     "metadata": {},
     "output_type": "execute_result"
    }
   ],
   "source": [
    "# Creating a dataframe for plotting the city distribution\n",
    "city_counts = city_counts.reset_index()\n",
    "city_counts"
   ]
  },
  {
   "cell_type": "markdown",
   "metadata": {},
   "source": [
    "There are 141 unique observations regarding the number of cities.  Observations for the busiest cities and the least busiest cities will be visualized and this number of observations will be segmented into 20 groups with the first froup being from 0-20 and the last group from 120-142 which is obtained from the formula below:\n",
    "\n",
    "i. number of groups = (total number of rows)/(group size)\n",
    "\n",
    "141/20 = 7\n",
    "\n",
    "ii. Getting the last segment:\n",
    "There are no remianing rows after dividing by 20, hence the last segment will be the same as the last full group.  This means the last segment would be the group starting from index (7-1)*20 = 120 to 142\n",
    "\n",
    "iii. Labelling the segments: Each segment can be labelled as:\n",
    "- 0-19\n",
    "- 20-39\n",
    "- 40-59\n",
    "- ...\n",
    "- 120-142"
   ]
  },
  {
   "cell_type": "code",
   "execution_count": 108,
   "metadata": {},
   "outputs": [
    {
     "data": {
      "text/html": [
       "<div>\n",
       "<style scoped>\n",
       "    .dataframe tbody tr th:only-of-type {\n",
       "        vertical-align: middle;\n",
       "    }\n",
       "\n",
       "    .dataframe tbody tr th {\n",
       "        vertical-align: top;\n",
       "    }\n",
       "\n",
       "    .dataframe thead th {\n",
       "        text-align: right;\n",
       "    }\n",
       "</style>\n",
       "<table border=\"1\" class=\"dataframe\">\n",
       "  <thead>\n",
       "    <tr style=\"text-align: right;\">\n",
       "      <th></th>\n",
       "      <th>City</th>\n",
       "      <th>count</th>\n",
       "    </tr>\n",
       "  </thead>\n",
       "  <tbody>\n",
       "    <tr>\n",
       "      <th>0</th>\n",
       "      <td>New Delhi</td>\n",
       "      <td>5473</td>\n",
       "    </tr>\n",
       "    <tr>\n",
       "      <th>1</th>\n",
       "      <td>Gurgaon</td>\n",
       "      <td>1118</td>\n",
       "    </tr>\n",
       "    <tr>\n",
       "      <th>2</th>\n",
       "      <td>Noida</td>\n",
       "      <td>1080</td>\n",
       "    </tr>\n",
       "    <tr>\n",
       "      <th>3</th>\n",
       "      <td>Faridabad</td>\n",
       "      <td>251</td>\n",
       "    </tr>\n",
       "    <tr>\n",
       "      <th>4</th>\n",
       "      <td>Ghaziabad</td>\n",
       "      <td>25</td>\n",
       "    </tr>\n",
       "    <tr>\n",
       "      <th>5</th>\n",
       "      <td>Bhubaneshwar</td>\n",
       "      <td>21</td>\n",
       "    </tr>\n",
       "    <tr>\n",
       "      <th>6</th>\n",
       "      <td>Amritsar</td>\n",
       "      <td>21</td>\n",
       "    </tr>\n",
       "    <tr>\n",
       "      <th>7</th>\n",
       "      <td>Ahmedabad</td>\n",
       "      <td>21</td>\n",
       "    </tr>\n",
       "    <tr>\n",
       "      <th>8</th>\n",
       "      <td>Lucknow</td>\n",
       "      <td>21</td>\n",
       "    </tr>\n",
       "    <tr>\n",
       "      <th>9</th>\n",
       "      <td>Guwahati</td>\n",
       "      <td>21</td>\n",
       "    </tr>\n",
       "    <tr>\n",
       "      <th>10</th>\n",
       "      <td>Ludhiana</td>\n",
       "      <td>20</td>\n",
       "    </tr>\n",
       "    <tr>\n",
       "      <th>11</th>\n",
       "      <td>Rest of Hawaii</td>\n",
       "      <td>20</td>\n",
       "    </tr>\n",
       "    <tr>\n",
       "      <th>12</th>\n",
       "      <td>Kochi</td>\n",
       "      <td>20</td>\n",
       "    </tr>\n",
       "    <tr>\n",
       "      <th>13</th>\n",
       "      <td>Kolkata</td>\n",
       "      <td>20</td>\n",
       "    </tr>\n",
       "    <tr>\n",
       "      <th>14</th>\n",
       "      <td>Pocatello</td>\n",
       "      <td>20</td>\n",
       "    </tr>\n",
       "    <tr>\n",
       "      <th>15</th>\n",
       "      <td>Pensacola</td>\n",
       "      <td>20</td>\n",
       "    </tr>\n",
       "    <tr>\n",
       "      <th>16</th>\n",
       "      <td>Mumbai</td>\n",
       "      <td>20</td>\n",
       "    </tr>\n",
       "    <tr>\n",
       "      <th>17</th>\n",
       "      <td>Mangalore</td>\n",
       "      <td>20</td>\n",
       "    </tr>\n",
       "    <tr>\n",
       "      <th>18</th>\n",
       "      <td>Singapore</td>\n",
       "      <td>20</td>\n",
       "    </tr>\n",
       "    <tr>\n",
       "      <th>19</th>\n",
       "      <td>Orlando</td>\n",
       "      <td>20</td>\n",
       "    </tr>\n",
       "  </tbody>\n",
       "</table>\n",
       "</div>"
      ],
      "text/plain": [
       "              City  count\n",
       "0        New Delhi   5473\n",
       "1          Gurgaon   1118\n",
       "2            Noida   1080\n",
       "3        Faridabad    251\n",
       "4        Ghaziabad     25\n",
       "5     Bhubaneshwar     21\n",
       "6         Amritsar     21\n",
       "7        Ahmedabad     21\n",
       "8          Lucknow     21\n",
       "9         Guwahati     21\n",
       "10        Ludhiana     20\n",
       "11  Rest of Hawaii     20\n",
       "12           Kochi     20\n",
       "13         Kolkata     20\n",
       "14       Pocatello     20\n",
       "15       Pensacola     20\n",
       "16          Mumbai     20\n",
       "17       Mangalore     20\n",
       "18       Singapore     20\n",
       "19         Orlando     20"
      ]
     },
     "execution_count": 108,
     "metadata": {},
     "output_type": "execute_result"
    }
   ],
   "source": [
    "city_counts_000_20 = city_counts[0:20]\n",
    "city_counts_000_20"
   ]
  },
  {
   "cell_type": "code",
   "execution_count": 109,
   "metadata": {},
   "outputs": [
    {
     "data": {
      "image/png": "[encoded data removed]",
      "text/plain": [
       "<Figure size 1400x1000 with 1 Axes>"
      ]
     },
     "metadata": {},
     "output_type": "display_data"
    }
   ],
   "source": [
    "# Bar distribution plot for the first 20 top cities\n",
    "plt.figure(figsize=(14, 10))  # Increase figure size\n",
    "plt.bar(city_counts_000_20['City'], city_counts_000_20['count'])  # Convert codes to strings for better x-axis labeling\n",
    "\n",
    "# Customize plot\n",
    "plt.xlabel('City')\n",
    "plt.ylabel('Count')\n",
    "plt.title('Counts of first 20 top cities')\n",
    "plt.xticks(rotation=45, ha='right')  # Rotate x-axis labels for readability\n",
    "plt.grid(axis='y')  # Optional: add a grid for better readability\n",
    "\n",
    "# Show plot\n",
    "plt.tight_layout()  # Adjust layout to fit labels\n",
    "plt.show()"
   ]
  },
  {
   "cell_type": "markdown",
   "metadata": {},
   "source": [
    "The distribution above shows that New Delhi has the highest number of business activities.  The other three from the highest to the lowest are Gurgaon, Noida, and Faridabad"
   ]
  },
  {
   "cell_type": "code",
   "execution_count": 110,
   "metadata": {},
   "outputs": [
    {
     "data": {
      "text/html": [
       "<div>\n",
       "<style scoped>\n",
       "    .dataframe tbody tr th:only-of-type {\n",
       "        vertical-align: middle;\n",
       "    }\n",
       "\n",
       "    .dataframe tbody tr th {\n",
       "        vertical-align: top;\n",
       "    }\n",
       "\n",
       "    .dataframe thead th {\n",
       "        text-align: right;\n",
       "    }\n",
       "</style>\n",
       "<table border=\"1\" class=\"dataframe\">\n",
       "  <thead>\n",
       "    <tr style=\"text-align: right;\">\n",
       "      <th></th>\n",
       "      <th>City</th>\n",
       "      <th>count</th>\n",
       "    </tr>\n",
       "  </thead>\n",
       "  <tbody>\n",
       "    <tr>\n",
       "      <th>121</th>\n",
       "      <td>Vernonia</td>\n",
       "      <td>1</td>\n",
       "    </tr>\n",
       "    <tr>\n",
       "      <th>122</th>\n",
       "      <td>Trentham East</td>\n",
       "      <td>1</td>\n",
       "    </tr>\n",
       "    <tr>\n",
       "      <th>123</th>\n",
       "      <td>Tanunda</td>\n",
       "      <td>1</td>\n",
       "    </tr>\n",
       "    <tr>\n",
       "      <th>124</th>\n",
       "      <td>Princeton</td>\n",
       "      <td>1</td>\n",
       "    </tr>\n",
       "    <tr>\n",
       "      <th>125</th>\n",
       "      <td>Potrero</td>\n",
       "      <td>1</td>\n",
       "    </tr>\n",
       "    <tr>\n",
       "      <th>126</th>\n",
       "      <td>Phillip Island</td>\n",
       "      <td>1</td>\n",
       "    </tr>\n",
       "    <tr>\n",
       "      <th>127</th>\n",
       "      <td>Penola</td>\n",
       "      <td>1</td>\n",
       "    </tr>\n",
       "    <tr>\n",
       "      <th>128</th>\n",
       "      <td>Paynesville</td>\n",
       "      <td>1</td>\n",
       "    </tr>\n",
       "    <tr>\n",
       "      <th>129</th>\n",
       "      <td>Mohali</td>\n",
       "      <td>1</td>\n",
       "    </tr>\n",
       "    <tr>\n",
       "      <th>130</th>\n",
       "      <td>Palm Cove</td>\n",
       "      <td>1</td>\n",
       "    </tr>\n",
       "    <tr>\n",
       "      <th>131</th>\n",
       "      <td>Ojo Caliente</td>\n",
       "      <td>1</td>\n",
       "    </tr>\n",
       "    <tr>\n",
       "      <th>132</th>\n",
       "      <td>Montville</td>\n",
       "      <td>1</td>\n",
       "    </tr>\n",
       "    <tr>\n",
       "      <th>133</th>\n",
       "      <td>Monroe</td>\n",
       "      <td>1</td>\n",
       "    </tr>\n",
       "    <tr>\n",
       "      <th>134</th>\n",
       "      <td>Miller</td>\n",
       "      <td>1</td>\n",
       "    </tr>\n",
       "    <tr>\n",
       "      <th>135</th>\n",
       "      <td>Middleton Beach</td>\n",
       "      <td>1</td>\n",
       "    </tr>\n",
       "    <tr>\n",
       "      <th>136</th>\n",
       "      <td>Panchkula</td>\n",
       "      <td>1</td>\n",
       "    </tr>\n",
       "    <tr>\n",
       "      <th>137</th>\n",
       "      <td>Mc Millan</td>\n",
       "      <td>1</td>\n",
       "    </tr>\n",
       "    <tr>\n",
       "      <th>138</th>\n",
       "      <td>Mayfield</td>\n",
       "      <td>1</td>\n",
       "    </tr>\n",
       "    <tr>\n",
       "      <th>139</th>\n",
       "      <td>Macedon</td>\n",
       "      <td>1</td>\n",
       "    </tr>\n",
       "    <tr>\n",
       "      <th>140</th>\n",
       "      <td>Vineland Station</td>\n",
       "      <td>1</td>\n",
       "    </tr>\n",
       "  </tbody>\n",
       "</table>\n",
       "</div>"
      ],
      "text/plain": [
       "                 City  count\n",
       "121          Vernonia      1\n",
       "122     Trentham East      1\n",
       "123           Tanunda      1\n",
       "124         Princeton      1\n",
       "125           Potrero      1\n",
       "126    Phillip Island      1\n",
       "127            Penola      1\n",
       "128       Paynesville      1\n",
       "129            Mohali      1\n",
       "130         Palm Cove      1\n",
       "131      Ojo Caliente      1\n",
       "132         Montville      1\n",
       "133            Monroe      1\n",
       "134            Miller      1\n",
       "135   Middleton Beach      1\n",
       "136         Panchkula      1\n",
       "137         Mc Millan      1\n",
       "138          Mayfield      1\n",
       "139           Macedon      1\n",
       "140  Vineland Station      1"
      ]
     },
     "execution_count": 110,
     "metadata": {},
     "output_type": "execute_result"
    }
   ],
   "source": [
    "city_counts_120_142 = city_counts[121:142]\n",
    "city_counts_120_142"
   ]
  },
  {
   "cell_type": "code",
   "execution_count": 111,
   "metadata": {},
   "outputs": [
    {
     "data": {
      "image/png": "[encoded data removed]",
      "text/plain": [
       "<Figure size 1400x1000 with 1 Axes>"
      ]
     },
     "metadata": {},
     "output_type": "display_data"
    }
   ],
   "source": [
    "# Bar distribution plot for the last 20 cities\n",
    "plt.figure(figsize=(14, 10))  # Increase figure size\n",
    "plt.bar(city_counts_120_142['City'], city_counts_120_142['count'])  # Convert codes to strings for better x-axis labeling\n",
    "\n",
    "# Customize plot\n",
    "plt.xlabel('City')\n",
    "plt.ylabel('Count')\n",
    "plt.title('Counts of last 20 cities')\n",
    "plt.xticks(rotation=45, ha='right')  # Rotate x-axis labels for readability\n",
    "plt.grid(axis='y')  # Optional: add a grid for better readability\n",
    "\n",
    "# Show plot\n",
    "plt.tight_layout()  # Adjust layout to fit labels\n",
    "plt.show()"
   ]
  },
  {
   "cell_type": "markdown",
   "metadata": {},
   "source": [
    "The above visualization is a distribution showing the last 20 cities with the least number of business activities being 1.  These cities are:\n",
    "\n",
    "- Vernonia\n",
    "\n",
    "- Trentham East\n",
    "\n",
    "- Tanunda\n",
    "\n",
    "- Princeton\n",
    "\n",
    "- Potrero\n",
    "\n",
    "- Phillip Island\n",
    "\n",
    "- Penola\n",
    "\n",
    "- Paynesville\n",
    "\n",
    "- Mohali\n",
    "\n",
    "- Palm Cove\n",
    "\n",
    "- Ojo Caliente\n",
    "\n",
    "- Montville\n",
    "\n",
    "- Monroe\n",
    "\n",
    "- Miller\n",
    "\n",
    "- Middleton Beach\n",
    "\n",
    "- Panchkula\n",
    "\n",
    "- Mc Millan\n",
    "\n",
    "- Mayfield\n",
    "\n",
    "- Macedon\n",
    "\n",
    "- Vineland Station"
   ]
  },
  {
   "cell_type": "markdown",
   "metadata": {},
   "source": [
    "**iii. Distribution of cuisines**"
   ]
  },
  {
   "cell_type": "code",
   "execution_count": 112,
   "metadata": {},
   "outputs": [
    {
     "data": {
      "text/plain": [
       "Cuisines\n",
       "North Indian                                             936\n",
       "North Indian, Chinese                                    511\n",
       "Chinese                                                  354\n",
       "Fast Food                                                354\n",
       "North Indian, Mughlai                                    334\n",
       "                                                        ... \n",
       "Bengali, Fast Food                                         1\n",
       "North Indian, Rajasthani, Asian                            1\n",
       "Chinese, Thai, Malaysian, Indonesian                       1\n",
       "Bakery, Desserts, North Indian, Bengali, South Indian      1\n",
       "Italian, World Cuisine                                     1\n",
       "Name: count, Length: 1825, dtype: int64"
      ]
     },
     "execution_count": 112,
     "metadata": {},
     "output_type": "execute_result"
    }
   ],
   "source": [
    "# Getting the counts of each cuisine\n",
    "cuisine_counts = new_data['Cuisines'].value_counts()\n",
    "cuisine_counts"
   ]
  },
  {
   "cell_type": "code",
   "execution_count": 113,
   "metadata": {},
   "outputs": [
    {
     "data": {
      "text/plain": [
       "1825"
      ]
     },
     "execution_count": 113,
     "metadata": {},
     "output_type": "execute_result"
    }
   ],
   "source": [
    "# Getting to know the number of unique cuisines\n",
    "new_data['Cuisines'].nunique()"
   ]
  },
  {
   "cell_type": "code",
   "execution_count": 114,
   "metadata": {},
   "outputs": [
    {
     "data": {
      "text/html": [
       "<div>\n",
       "<style scoped>\n",
       "    .dataframe tbody tr th:only-of-type {\n",
       "        vertical-align: middle;\n",
       "    }\n",
       "\n",
       "    .dataframe tbody tr th {\n",
       "        vertical-align: top;\n",
       "    }\n",
       "\n",
       "    .dataframe thead th {\n",
       "        text-align: right;\n",
       "    }\n",
       "</style>\n",
       "<table border=\"1\" class=\"dataframe\">\n",
       "  <thead>\n",
       "    <tr style=\"text-align: right;\">\n",
       "      <th></th>\n",
       "      <th>Cuisines</th>\n",
       "      <th>count</th>\n",
       "    </tr>\n",
       "  </thead>\n",
       "  <tbody>\n",
       "    <tr>\n",
       "      <th>0</th>\n",
       "      <td>North Indian</td>\n",
       "      <td>936</td>\n",
       "    </tr>\n",
       "    <tr>\n",
       "      <th>1</th>\n",
       "      <td>North Indian, Chinese</td>\n",
       "      <td>511</td>\n",
       "    </tr>\n",
       "    <tr>\n",
       "      <th>2</th>\n",
       "      <td>Chinese</td>\n",
       "      <td>354</td>\n",
       "    </tr>\n",
       "    <tr>\n",
       "      <th>3</th>\n",
       "      <td>Fast Food</td>\n",
       "      <td>354</td>\n",
       "    </tr>\n",
       "    <tr>\n",
       "      <th>4</th>\n",
       "      <td>North Indian, Mughlai</td>\n",
       "      <td>334</td>\n",
       "    </tr>\n",
       "    <tr>\n",
       "      <th>...</th>\n",
       "      <td>...</td>\n",
       "      <td>...</td>\n",
       "    </tr>\n",
       "    <tr>\n",
       "      <th>1820</th>\n",
       "      <td>Bengali, Fast Food</td>\n",
       "      <td>1</td>\n",
       "    </tr>\n",
       "    <tr>\n",
       "      <th>1821</th>\n",
       "      <td>North Indian, Rajasthani, Asian</td>\n",
       "      <td>1</td>\n",
       "    </tr>\n",
       "    <tr>\n",
       "      <th>1822</th>\n",
       "      <td>Chinese, Thai, Malaysian, Indonesian</td>\n",
       "      <td>1</td>\n",
       "    </tr>\n",
       "    <tr>\n",
       "      <th>1823</th>\n",
       "      <td>Bakery, Desserts, North Indian, Bengali, South...</td>\n",
       "      <td>1</td>\n",
       "    </tr>\n",
       "    <tr>\n",
       "      <th>1824</th>\n",
       "      <td>Italian, World Cuisine</td>\n",
       "      <td>1</td>\n",
       "    </tr>\n",
       "  </tbody>\n",
       "</table>\n",
       "<p>1825 rows × 2 columns</p>\n",
       "</div>"
      ],
      "text/plain": [
       "                                               Cuisines  count\n",
       "0                                          North Indian    936\n",
       "1                                 North Indian, Chinese    511\n",
       "2                                               Chinese    354\n",
       "3                                             Fast Food    354\n",
       "4                                 North Indian, Mughlai    334\n",
       "...                                                 ...    ...\n",
       "1820                                 Bengali, Fast Food      1\n",
       "1821                    North Indian, Rajasthani, Asian      1\n",
       "1822               Chinese, Thai, Malaysian, Indonesian      1\n",
       "1823  Bakery, Desserts, North Indian, Bengali, South...      1\n",
       "1824                             Italian, World Cuisine      1\n",
       "\n",
       "[1825 rows x 2 columns]"
      ]
     },
     "execution_count": 114,
     "metadata": {},
     "output_type": "execute_result"
    }
   ],
   "source": [
    "# Creating a dataframe for plotting the cuisine distribution\n",
    "# cuisine_counts_001_300 = cuisine_counts.iloc[1:300].reset_index()\n",
    "# cuisine_counts_001_300\n",
    "\n",
    "cuisine_counts = cuisine_counts.reset_index()\n",
    "# cuisine_counts = cuisine_counts.drop(columns=['level_0', 'index'])\n",
    "cuisine_counts"
   ]
  },
  {
   "cell_type": "markdown",
   "metadata": {},
   "source": [
    "There are 1824 unique observations regarding the number of cuisines.  Observations for the highest ordered cuisines and the lowest order cuisines will be visualized and this number of observations will be segmented into 20 groups with the first froup being from 0-20 and the last group from 1800-1825 which is obtained from the formula below:\n",
    "\n",
    "i. number of groups = (total number of rows)/(group size)\n",
    "\n",
    "1824/20 = 91\n",
    "\n",
    "ii. Getting the last segment:\n",
    "There are no remianing rows after dividing by 20, hence the last segment will be the same as the last full group.  This means the last segment would be the group starting from index (91-1)*20 = 1800 to 1824\n",
    "\n",
    "iii. Labelling the segments: Each segment can be labelled as:\n",
    "- 0-19\n",
    "- 20-39\n",
    "- 40-59\n",
    "- ...\n",
    "- 1800-1823"
   ]
  },
  {
   "cell_type": "code",
   "execution_count": 115,
   "metadata": {},
   "outputs": [
    {
     "data": {
      "text/html": [
       "<div>\n",
       "<style scoped>\n",
       "    .dataframe tbody tr th:only-of-type {\n",
       "        vertical-align: middle;\n",
       "    }\n",
       "\n",
       "    .dataframe tbody tr th {\n",
       "        vertical-align: top;\n",
       "    }\n",
       "\n",
       "    .dataframe thead th {\n",
       "        text-align: right;\n",
       "    }\n",
       "</style>\n",
       "<table border=\"1\" class=\"dataframe\">\n",
       "  <thead>\n",
       "    <tr style=\"text-align: right;\">\n",
       "      <th></th>\n",
       "      <th>Cuisines</th>\n",
       "      <th>count</th>\n",
       "    </tr>\n",
       "  </thead>\n",
       "  <tbody>\n",
       "    <tr>\n",
       "      <th>0</th>\n",
       "      <td>North Indian</td>\n",
       "      <td>936</td>\n",
       "    </tr>\n",
       "    <tr>\n",
       "      <th>1</th>\n",
       "      <td>North Indian, Chinese</td>\n",
       "      <td>511</td>\n",
       "    </tr>\n",
       "    <tr>\n",
       "      <th>2</th>\n",
       "      <td>Chinese</td>\n",
       "      <td>354</td>\n",
       "    </tr>\n",
       "    <tr>\n",
       "      <th>3</th>\n",
       "      <td>Fast Food</td>\n",
       "      <td>354</td>\n",
       "    </tr>\n",
       "    <tr>\n",
       "      <th>4</th>\n",
       "      <td>North Indian, Mughlai</td>\n",
       "      <td>334</td>\n",
       "    </tr>\n",
       "    <tr>\n",
       "      <th>5</th>\n",
       "      <td>Cafe</td>\n",
       "      <td>299</td>\n",
       "    </tr>\n",
       "    <tr>\n",
       "      <th>6</th>\n",
       "      <td>Bakery</td>\n",
       "      <td>218</td>\n",
       "    </tr>\n",
       "    <tr>\n",
       "      <th>7</th>\n",
       "      <td>North Indian, Mughlai, Chinese</td>\n",
       "      <td>197</td>\n",
       "    </tr>\n",
       "    <tr>\n",
       "      <th>8</th>\n",
       "      <td>Bakery, Desserts</td>\n",
       "      <td>170</td>\n",
       "    </tr>\n",
       "    <tr>\n",
       "      <th>9</th>\n",
       "      <td>Street Food</td>\n",
       "      <td>149</td>\n",
       "    </tr>\n",
       "    <tr>\n",
       "      <th>10</th>\n",
       "      <td>Pizza, Fast Food</td>\n",
       "      <td>131</td>\n",
       "    </tr>\n",
       "    <tr>\n",
       "      <th>11</th>\n",
       "      <td>Chinese, Fast Food</td>\n",
       "      <td>118</td>\n",
       "    </tr>\n",
       "    <tr>\n",
       "      <th>12</th>\n",
       "      <td>Mithai, Street Food</td>\n",
       "      <td>116</td>\n",
       "    </tr>\n",
       "    <tr>\n",
       "      <th>13</th>\n",
       "      <td>South Indian</td>\n",
       "      <td>112</td>\n",
       "    </tr>\n",
       "    <tr>\n",
       "      <th>14</th>\n",
       "      <td>Bakery, Fast Food</td>\n",
       "      <td>108</td>\n",
       "    </tr>\n",
       "    <tr>\n",
       "      <th>15</th>\n",
       "      <td>Chinese, North Indian</td>\n",
       "      <td>105</td>\n",
       "    </tr>\n",
       "    <tr>\n",
       "      <th>16</th>\n",
       "      <td>Mughlai</td>\n",
       "      <td>103</td>\n",
       "    </tr>\n",
       "    <tr>\n",
       "      <th>17</th>\n",
       "      <td>Ice Cream, Desserts</td>\n",
       "      <td>83</td>\n",
       "    </tr>\n",
       "    <tr>\n",
       "      <th>18</th>\n",
       "      <td>Ice Cream</td>\n",
       "      <td>74</td>\n",
       "    </tr>\n",
       "    <tr>\n",
       "      <th>19</th>\n",
       "      <td>North Indian, Fast Food</td>\n",
       "      <td>74</td>\n",
       "    </tr>\n",
       "  </tbody>\n",
       "</table>\n",
       "</div>"
      ],
      "text/plain": [
       "                          Cuisines  count\n",
       "0                     North Indian    936\n",
       "1            North Indian, Chinese    511\n",
       "2                          Chinese    354\n",
       "3                        Fast Food    354\n",
       "4            North Indian, Mughlai    334\n",
       "5                             Cafe    299\n",
       "6                           Bakery    218\n",
       "7   North Indian, Mughlai, Chinese    197\n",
       "8                 Bakery, Desserts    170\n",
       "9                      Street Food    149\n",
       "10                Pizza, Fast Food    131\n",
       "11              Chinese, Fast Food    118\n",
       "12             Mithai, Street Food    116\n",
       "13                    South Indian    112\n",
       "14               Bakery, Fast Food    108\n",
       "15           Chinese, North Indian    105\n",
       "16                         Mughlai    103\n",
       "17             Ice Cream, Desserts     83\n",
       "18                       Ice Cream     74\n",
       "19         North Indian, Fast Food     74"
      ]
     },
     "execution_count": 115,
     "metadata": {},
     "output_type": "execute_result"
    }
   ],
   "source": [
    "cuisine_counts_000_20 = cuisine_counts[0:20]\n",
    "cuisine_counts_000_20"
   ]
  },
  {
   "cell_type": "code",
   "execution_count": 116,
   "metadata": {},
   "outputs": [
    {
     "data": {
      "image/png": "[encoded data removed]",
      "text/plain": [
       "<Figure size 1400x1000 with 1 Axes>"
      ]
     },
     "metadata": {},
     "output_type": "display_data"
    }
   ],
   "source": [
    "# Bar distribution plot for first 20 top cuisines\n",
    "plt.figure(figsize=(14, 10))  # Increase figure size\n",
    "plt.bar(cuisine_counts_000_20['Cuisines'], cuisine_counts_000_20['count'])\n",
    "\n",
    "# Customize plot\n",
    "plt.xlabel('Cuisine')\n",
    "plt.ylabel('Count')\n",
    "plt.title('Counts of top 20 cuisines')\n",
    "plt.xticks(rotation=45, ha='right')  # Rotate x-axis labels for readability\n",
    "plt.grid(axis='y')  # Optional: add a grid for better readability\n",
    "\n",
    "# Show plot\n",
    "plt.tight_layout()  # Adjust layout to fit labels\n",
    "plt.show()"
   ]
  },
  {
   "cell_type": "markdown",
   "metadata": {},
   "source": [
    "The dustribution above shows the first five cuisines whuch are likely the top five high in demand cuisines which are:\n",
    "\n",
    "- North Indian\n",
    "\n",
    "- North Indian, Chinese\n",
    "\n",
    "- Chinese\n",
    "\n",
    "- Fast Food\n",
    "\n",
    "- North Indian, Mughlai"
   ]
  },
  {
   "cell_type": "code",
   "execution_count": 117,
   "metadata": {},
   "outputs": [
    {
     "data": {
      "text/html": [
       "<div>\n",
       "<style scoped>\n",
       "    .dataframe tbody tr th:only-of-type {\n",
       "        vertical-align: middle;\n",
       "    }\n",
       "\n",
       "    .dataframe tbody tr th {\n",
       "        vertical-align: top;\n",
       "    }\n",
       "\n",
       "    .dataframe thead th {\n",
       "        text-align: right;\n",
       "    }\n",
       "</style>\n",
       "<table border=\"1\" class=\"dataframe\">\n",
       "  <thead>\n",
       "    <tr style=\"text-align: right;\">\n",
       "      <th></th>\n",
       "      <th>Cuisines</th>\n",
       "      <th>count</th>\n",
       "    </tr>\n",
       "  </thead>\n",
       "  <tbody>\n",
       "    <tr>\n",
       "      <th>1805</th>\n",
       "      <td>Chinese, Thai, Japanese, Asian</td>\n",
       "      <td>1</td>\n",
       "    </tr>\n",
       "    <tr>\n",
       "      <th>1806</th>\n",
       "      <td>Healthy Food, North Indian</td>\n",
       "      <td>1</td>\n",
       "    </tr>\n",
       "    <tr>\n",
       "      <th>1807</th>\n",
       "      <td>Mithai, Street Food, South Indian, Chinese, No...</td>\n",
       "      <td>1</td>\n",
       "    </tr>\n",
       "    <tr>\n",
       "      <th>1808</th>\n",
       "      <td>Chinese, Assamese</td>\n",
       "      <td>1</td>\n",
       "    </tr>\n",
       "    <tr>\n",
       "      <th>1809</th>\n",
       "      <td>Mithai, Bakery, Street Food</td>\n",
       "      <td>1</td>\n",
       "    </tr>\n",
       "    <tr>\n",
       "      <th>1810</th>\n",
       "      <td>North Indian, Mediterranean, European, Asian, ...</td>\n",
       "      <td>1</td>\n",
       "    </tr>\n",
       "    <tr>\n",
       "      <th>1811</th>\n",
       "      <td>Healthy Food, Fast Food, Salad</td>\n",
       "      <td>1</td>\n",
       "    </tr>\n",
       "    <tr>\n",
       "      <th>1812</th>\n",
       "      <td>Bakery, Desserts, Bakery</td>\n",
       "      <td>1</td>\n",
       "    </tr>\n",
       "    <tr>\n",
       "      <th>1813</th>\n",
       "      <td>Italian, Burger, Charcoal Grill</td>\n",
       "      <td>1</td>\n",
       "    </tr>\n",
       "    <tr>\n",
       "      <th>1814</th>\n",
       "      <td>Chinese, North Indian, Continental, Mexican</td>\n",
       "      <td>1</td>\n",
       "    </tr>\n",
       "    <tr>\n",
       "      <th>1815</th>\n",
       "      <td>Cafe, Pizza, Burger</td>\n",
       "      <td>1</td>\n",
       "    </tr>\n",
       "    <tr>\n",
       "      <th>1816</th>\n",
       "      <td>Healthy Food, Continental, Juices, Beverages, ...</td>\n",
       "      <td>1</td>\n",
       "    </tr>\n",
       "    <tr>\n",
       "      <th>1817</th>\n",
       "      <td>Goan, American, Portuguese</td>\n",
       "      <td>1</td>\n",
       "    </tr>\n",
       "    <tr>\n",
       "      <th>1818</th>\n",
       "      <td>South Indian, Desserts, Beverages</td>\n",
       "      <td>1</td>\n",
       "    </tr>\n",
       "    <tr>\n",
       "      <th>1819</th>\n",
       "      <td>Healthy Food, North Indian, Italian, Salad</td>\n",
       "      <td>1</td>\n",
       "    </tr>\n",
       "    <tr>\n",
       "      <th>1820</th>\n",
       "      <td>Bengali, Fast Food</td>\n",
       "      <td>1</td>\n",
       "    </tr>\n",
       "    <tr>\n",
       "      <th>1821</th>\n",
       "      <td>North Indian, Rajasthani, Asian</td>\n",
       "      <td>1</td>\n",
       "    </tr>\n",
       "    <tr>\n",
       "      <th>1822</th>\n",
       "      <td>Chinese, Thai, Malaysian, Indonesian</td>\n",
       "      <td>1</td>\n",
       "    </tr>\n",
       "    <tr>\n",
       "      <th>1823</th>\n",
       "      <td>Bakery, Desserts, North Indian, Bengali, South...</td>\n",
       "      <td>1</td>\n",
       "    </tr>\n",
       "    <tr>\n",
       "      <th>1824</th>\n",
       "      <td>Italian, World Cuisine</td>\n",
       "      <td>1</td>\n",
       "    </tr>\n",
       "  </tbody>\n",
       "</table>\n",
       "</div>"
      ],
      "text/plain": [
       "                                               Cuisines  count\n",
       "1805                     Chinese, Thai, Japanese, Asian      1\n",
       "1806                         Healthy Food, North Indian      1\n",
       "1807  Mithai, Street Food, South Indian, Chinese, No...      1\n",
       "1808                                  Chinese, Assamese      1\n",
       "1809                        Mithai, Bakery, Street Food      1\n",
       "1810  North Indian, Mediterranean, European, Asian, ...      1\n",
       "1811                     Healthy Food, Fast Food, Salad      1\n",
       "1812                           Bakery, Desserts, Bakery      1\n",
       "1813                    Italian, Burger, Charcoal Grill      1\n",
       "1814        Chinese, North Indian, Continental, Mexican      1\n",
       "1815                                Cafe, Pizza, Burger      1\n",
       "1816  Healthy Food, Continental, Juices, Beverages, ...      1\n",
       "1817                         Goan, American, Portuguese      1\n",
       "1818                  South Indian, Desserts, Beverages      1\n",
       "1819         Healthy Food, North Indian, Italian, Salad      1\n",
       "1820                                 Bengali, Fast Food      1\n",
       "1821                    North Indian, Rajasthani, Asian      1\n",
       "1822               Chinese, Thai, Malaysian, Indonesian      1\n",
       "1823  Bakery, Desserts, North Indian, Bengali, South...      1\n",
       "1824                             Italian, World Cuisine      1"
      ]
     },
     "execution_count": 117,
     "metadata": {},
     "output_type": "execute_result"
    }
   ],
   "source": [
    "cuisine_counts_1805_1825 = cuisine_counts[1805:1825]\n",
    "cuisine_counts_1805_1825"
   ]
  },
  {
   "cell_type": "code",
   "execution_count": 118,
   "metadata": {},
   "outputs": [
    {
     "data": {
      "image/png": "[encoded data removed]",
      "text/plain": [
       "<Figure size 1400x1000 with 1 Axes>"
      ]
     },
     "metadata": {},
     "output_type": "display_data"
    }
   ],
   "source": [
    "# Bar distribution plot for the last 20 cuisines\n",
    "plt.figure(figsize=(14, 10))  # Increase figure size\n",
    "plt.bar(cuisine_counts_1805_1825['Cuisines'], cuisine_counts_1805_1825['count'])  \n",
    "\n",
    "# Customize plot\n",
    "plt.xlabel('Cuisine')\n",
    "plt.ylabel('Count')\n",
    "plt.title('Counts of last 20 cuisines')\n",
    "plt.xticks(rotation=45, ha='right')  # Rotate x-axis labels for readability\n",
    "plt.grid(axis='y')  # Optional: add a grid for better readability\n",
    "\n",
    "# Show plot\n",
    "plt.tight_layout()  # Adjust layout to fit labels\n",
    "plt.show()"
   ]
  },
  {
   "cell_type": "markdown",
   "metadata": {},
   "source": [
    "The least five in demand cuisines are:\n",
    "\n",
    "- Chinese, Thai, Japanese, Asian\n",
    "\n",
    "- Healthy Food, North Indian\n",
    "\n",
    "- Mithai, Street Food, South Indian, Chinese, North Indian\n",
    "\n",
    "- Chinese, Assamese\n",
    "\n",
    "- Mithai, Bakery, Street Food"
   ]
  },
  {
   "cell_type": "markdown",
   "metadata": {},
   "source": [
    "**3. Top cuisines with the highest number of restaurants**"
   ]
  },
  {
   "cell_type": "code",
   "execution_count": 119,
   "metadata": {},
   "outputs": [
    {
     "data": {
      "text/plain": [
       "Cuisines                         Restaurant Name      \n",
       "Afghani                          Afghan Indian            1\n",
       "                                 Burj Al Arab             1\n",
       "                                 Kabul Delhi              1\n",
       "                                 Pak Afghan Restaurant    1\n",
       "Afghani, Mughlai, Chinese        Al- Sheikh               1\n",
       "                                                         ..\n",
       "Western, Asian, Cafe             MONKS                    1\n",
       "Western, Fusion, Fast Food       I Am                     1\n",
       "World Cuisine                    Gaga Manjero             1\n",
       "World Cuisine, Mexican, Italian  Cafemiz                  1\n",
       "World Cuisine, Patisserie, Cafe  Ceviz Aac۱               1\n",
       "Name: count, Length: 7940, dtype: int64"
      ]
     },
     "execution_count": 119,
     "metadata": {},
     "output_type": "execute_result"
    }
   ],
   "source": [
    "restaurant_counts_by_cuisines = new_data.groupby('Cuisines')['Restaurant Name'].value_counts()\n",
    "restaurant_counts_by_cuisines"
   ]
  },
  {
   "cell_type": "code",
   "execution_count": 120,
   "metadata": {},
   "outputs": [
    {
     "data": {
      "text/plain": [
       "Cuisines\n",
       "Afghani                                      4\n",
       "Afghani, Mughlai, Chinese                    1\n",
       "Afghani, North Indian                        1\n",
       "Afghani, North Indian, Pakistani, Arabian    1\n",
       "African                                      1\n",
       "                                            ..\n",
       "Western, Asian, Cafe                         1\n",
       "Western, Fusion, Fast Food                   1\n",
       "World Cuisine                                1\n",
       "World Cuisine, Mexican, Italian              1\n",
       "World Cuisine, Patisserie, Cafe              1\n",
       "Name: count, Length: 1825, dtype: int64"
      ]
     },
     "execution_count": 120,
     "metadata": {},
     "output_type": "execute_result"
    }
   ],
   "source": [
    "restaurant_counts_by_cuisines_aggregated = restaurant_counts_by_cuisines.groupby(level=0).sum()\n",
    "restaurant_counts_by_cuisines_aggregated"
   ]
  },
  {
   "cell_type": "code",
   "execution_count": 121,
   "metadata": {},
   "outputs": [
    {
     "data": {
      "text/plain": [
       "Cuisines\n",
       "North Indian                      936\n",
       "North Indian, Chinese             511\n",
       "Chinese                           354\n",
       "Fast Food                         354\n",
       "North Indian, Mughlai             334\n",
       "Cafe                              299\n",
       "Bakery                            218\n",
       "North Indian, Mughlai, Chinese    197\n",
       "Bakery, Desserts                  170\n",
       "Street Food                       149\n",
       "Name: count, dtype: int64"
      ]
     },
     "execution_count": 121,
     "metadata": {},
     "output_type": "execute_result"
    }
   ],
   "source": [
    "sorted_restaurant_counts_by_cuisines_aggregated= restaurant_counts_by_cuisines_aggregated.sort_values(ascending=False)\n",
    "sorted_restaurant_counts_by_cuisines_aggregated.head(10)"
   ]
  },
  {
   "cell_type": "markdown",
   "metadata": {},
   "source": [
    "**Top cities with the highest number of restaurants**"
   ]
  },
  {
   "cell_type": "code",
   "execution_count": 122,
   "metadata": {},
   "outputs": [
    {
     "data": {
      "text/plain": [
       "City       Restaurant Name                 \n",
       "Abu Dhabi  Applebee's                          1\n",
       "           Bait El Khetyar                     1\n",
       "           Cho Gao - Crowne Plaza Abu Dhabi    1\n",
       "           Denny's                             1\n",
       "           Famous Dave's Barbecue              1\n",
       "                                              ..\n",
       "stanbul    Leman K_lt_r                        1\n",
       "           Naml۱ Gurme                         1\n",
       "           Starbucks                           1\n",
       "           Valonia                             1\n",
       "           Walter's Coffee Roastery            1\n",
       "Name: count, Length: 7974, dtype: int64"
      ]
     },
     "execution_count": 122,
     "metadata": {},
     "output_type": "execute_result"
    }
   ],
   "source": [
    "restaurant_counts_by_cities = new_data.groupby('City')['Restaurant Name'].value_counts()\n",
    "restaurant_counts_by_cities"
   ]
  },
  {
   "cell_type": "code",
   "execution_count": 123,
   "metadata": {},
   "outputs": [
    {
     "data": {
      "text/plain": [
       "MultiIndex([('Abu Dhabi',                       'Applebee's'),\n",
       "            ('Abu Dhabi',                  'Bait El Khetyar'),\n",
       "            ('Abu Dhabi', 'Cho Gao - Crowne Plaza Abu Dhabi'),\n",
       "            ('Abu Dhabi',                          'Denny's'),\n",
       "            ('Abu Dhabi',           'Famous Dave's Barbecue'),\n",
       "            ('Abu Dhabi',                           'Gazebo'),\n",
       "            ('Abu Dhabi',                    'Genghis Grill'),\n",
       "            ('Abu Dhabi',                      'Hot Palayok'),\n",
       "            ('Abu Dhabi',                 'Indian By Nature'),\n",
       "            ('Abu Dhabi',                     'Olive Garden'),\n",
       "            ...\n",
       "            (  'stanbul',                 'Draft Gastro Pub'),\n",
       "            (  'stanbul',                     'Emirgan S_ti'),\n",
       "            (  'stanbul',                            'Huqqa'),\n",
       "            (  'stanbul',              'J'adore Chocolatier'),\n",
       "            (  'stanbul',                 'Karak_y G_ll_olu'),\n",
       "            (  'stanbul',                     'Leman K_lt_r'),\n",
       "            (  'stanbul',                      'Naml۱ Gurme'),\n",
       "            (  'stanbul',                        'Starbucks'),\n",
       "            (  'stanbul',                          'Valonia'),\n",
       "            (  'stanbul',         'Walter's Coffee Roastery')],\n",
       "           names=['City', 'Restaurant Name'], length=7974)"
      ]
     },
     "execution_count": 123,
     "metadata": {},
     "output_type": "execute_result"
    }
   ],
   "source": [
    "index = restaurant_counts_by_cities.index\n",
    "index"
   ]
  },
  {
   "cell_type": "code",
   "execution_count": 124,
   "metadata": {},
   "outputs": [
    {
     "data": {
      "text/plain": [
       "City\n",
       "Abu Dhabi          20\n",
       "Agra               20\n",
       "Ahmedabad          21\n",
       "Albany             20\n",
       "Allahabad          20\n",
       "                   ..\n",
       "Weirton             1\n",
       "Wellington City    20\n",
       "Winchester Bay      1\n",
       "Yorkton             1\n",
       "stanbul            14\n",
       "Name: count, Length: 141, dtype: int64"
      ]
     },
     "execution_count": 124,
     "metadata": {},
     "output_type": "execute_result"
    }
   ],
   "source": [
    "restaurant_counts_by_cities_aggregated = restaurant_counts_by_cities.groupby(level=0).sum()\n",
    "restaurant_counts_by_cities_aggregated"
   ]
  },
  {
   "cell_type": "code",
   "execution_count": 125,
   "metadata": {},
   "outputs": [
    {
     "data": {
      "text/plain": [
       "City\n",
       "New Delhi       5473\n",
       "Gurgaon         1118\n",
       "Noida           1080\n",
       "Faridabad        251\n",
       "Ghaziabad         25\n",
       "Bhubaneshwar      21\n",
       "Lucknow           21\n",
       "Amritsar          21\n",
       "Ahmedabad         21\n",
       "Guwahati          21\n",
       "Name: count, dtype: int64"
      ]
     },
     "execution_count": 125,
     "metadata": {},
     "output_type": "execute_result"
    }
   ],
   "source": [
    "sorted_restaurant_counts_by_cities_aggregated = restaurant_counts_by_cities_aggregated.sort_values(ascending=False)\n",
    "sorted_restaurant_counts_by_cities_aggregated.head(10)"
   ]
  },
  {
   "cell_type": "markdown",
   "metadata": {},
   "source": [
    "Afghani among all the cuisines is being served in 4 restaurants while New Delhi has the highest number of restaurants"
   ]
  },
  {
   "cell_type": "markdown",
   "metadata": {},
   "source": []
  }
 ],
 "metadata": {
  "kernelspec": {
   "display_name": "Python 3",
   "language": "python",
   "name": "python3"
  },
  "language_info": {
   "codemirror_mode": {
    "name": "ipython",
    "version": 3
   },
   "file_extension": ".py",
   "mimetype": "text/x-python",
   "name": "python",
   "nbconvert_exporter": "python",
   "pygments_lexer": "ipython3",
   "version": "3.10.6"
  }
 },
 "nbformat": 4,
 "nbformat_minor": 2
}
