{
 "cells": [
  {
   "cell_type": "markdown",
   "metadata": {},
   "source": [
    "**Task1: Table Booking and Online Delivery**\n",
    "\n",
    "Task List:\n",
    "\n",
    "1. Determine the percentage of restaurants that offer table booking and online delivery.\n",
    "\n",
    "2. Compare the average ratings of restaurants with table booking and those without.\n",
    "\n",
    "3. Analyze the availability of online delivery among restaurants with different price ranges."
   ]
  },
  {
   "cell_type": "code",
   "execution_count": 2,
   "metadata": {},
   "outputs": [],
   "source": [
    "import pandas as pd"
   ]
  },
  {
   "cell_type": "code",
   "execution_count": 3,
   "metadata": {},
   "outputs": [],
   "source": [
    "new_data = pd.read_csv(\"new_data.csv\")"
   ]
  },
  {
   "cell_type": "code",
   "execution_count": 4,
   "metadata": {},
   "outputs": [
    {
     "name": "stdout",
     "output_type": "stream",
     "text": [
      "<class 'pandas.core.frame.DataFrame'>\n",
      "RangeIndex: 9551 entries, 0 to 9550\n",
      "Data columns (total 21 columns):\n",
      " #   Column                Non-Null Count  Dtype  \n",
      "---  ------                --------------  -----  \n",
      " 0   Restaurant ID         9551 non-null   int64  \n",
      " 1   Restaurant Name       9551 non-null   object \n",
      " 2   Country Code          9551 non-null   int64  \n",
      " 3   City                  9551 non-null   object \n",
      " 4   Address               9551 non-null   object \n",
      " 5   Locality              9551 non-null   object \n",
      " 6   Locality Verbose      9551 non-null   object \n",
      " 7   Longitude             9551 non-null   float64\n",
      " 8   Latitude              9551 non-null   float64\n",
      " 9   Cuisines              9542 non-null   object \n",
      " 10  Average Cost for two  9551 non-null   int64  \n",
      " 11  Currency              9551 non-null   object \n",
      " 12  Has Table booking     9551 non-null   object \n",
      " 13  Has Online delivery   9551 non-null   object \n",
      " 14  Is delivering now     9551 non-null   object \n",
      " 15  Switch to order menu  9551 non-null   object \n",
      " 16  Price range           9551 non-null   int64  \n",
      " 17  Aggregate rating      9551 non-null   float64\n",
      " 18  Rating color          9551 non-null   object \n",
      " 19  Rating text           9551 non-null   object \n",
      " 20  Votes                 9551 non-null   int64  \n",
      "dtypes: float64(3), int64(5), object(13)\n",
      "memory usage: 1.5+ MB\n"
     ]
    }
   ],
   "source": [
    "new_data.info()"
   ]
  },
  {
   "cell_type": "markdown",
   "metadata": {},
   "source": [
    "1. Getting the percentage of restaurants that offer table booking and online delivery"
   ]
  },
  {
   "cell_type": "code",
   "execution_count": 5,
   "metadata": {},
   "outputs": [
    {
     "name": "stdout",
     "output_type": "stream",
     "text": [
      "Total number of observed unique restaurants: 7446\n",
      "Total number of unique restaurants offering both table booking and online delivery: 364\n",
      "Percentage of restaurants offering table booking and online delivery: 4.89%\n"
     ]
    }
   ],
   "source": [
    "# Total number of restaurants\n",
    "total_number_of_restaurants = new_data.groupby('Restaurant Name').size().reset_index(name='Count')\n",
    "print(f\"Total number of observed unique restaurants: {total_number_of_restaurants.shape[0]}\")\n",
    "\n",
    "# Total number of restaurants offering both table booking and online delivery\n",
    "restaurants_with_TB_OD = new_data[(new_data['Has Table booking']=='Yes') & (new_data['Has Online delivery']=='Yes')]\n",
    "restaurants_with_TB_OD_grouped_by_restaurants = restaurants_with_TB_OD.groupby('Restaurant Name').size().reset_index(name='Count')\n",
    "print(f\"Total number of unique restaurants offering both table booking and online delivery: {restaurants_with_TB_OD_grouped_by_restaurants.shape[0]}\")\n",
    "\n",
    "# Percentage of restuarants offering both table booking and online delivery\n",
    "percentage_of_restaurants_offering_both_TB_and_OD = ((restaurants_with_TB_OD_grouped_by_restaurants.shape[0])/(total_number_of_restaurants.shape[0])) * 100\n",
    "\n",
    "print(f\"Percentage of restaurants offering table booking and online delivery: {round(percentage_of_restaurants_offering_both_TB_and_OD, 2)}%\")\n",
    "# restaurants_with_TB_OD_grouped_by_restaurants['Count'].max()\n",
    "# restaurants_with_TB_OD_count = restaurants_with_TB_OD.shape[0]\n",
    "# print(f\"There are {restaurants_with_TB_OD_count} number of restaurants that offer table booking and online delivery\")"
   ]
  },
  {
   "cell_type": "markdown",
   "metadata": {},
   "source": [
    "2. Comparing the average ratings of restaurants with table booking and those without.\n"
   ]
  },
  {
   "cell_type": "code",
   "execution_count": 6,
   "metadata": {},
   "outputs": [
    {
     "data": {
      "text/plain": [
       "3.4436431922507875"
      ]
     },
     "execution_count": 6,
     "metadata": {},
     "output_type": "execute_result"
    }
   ],
   "source": [
    "# Getting the average ratings of restaurants with table booking\n",
    "\n",
    "# first we get the data of all restaurants with table booking \n",
    "restaurants_with_TB = new_data[new_data['Has Table booking']=='Yes']\n",
    "\n",
    "# Getting the average ratings of restaurants with table booking\n",
    "avg_rating_restaurants_with_TB = restaurants_with_TB.groupby('Restaurant Name')['Aggregate rating'].mean()\n",
    "\n",
    "# Getting the overall average of the restaurants with table booking\n",
    "meanOfThe_avg_rating_restaurants_with_TB = avg_rating_restaurants_with_TB.reset_index(name='Aggregate rating')['Aggregate rating'].mean()\n",
    "\n",
    "meanOfThe_avg_rating_restaurants_with_TB"
   ]
  },
  {
   "cell_type": "code",
   "execution_count": 7,
   "metadata": {},
   "outputs": [
    {
     "data": {
      "text/plain": [
       "2.5093828043448814"
      ]
     },
     "execution_count": 7,
     "metadata": {},
     "output_type": "execute_result"
    }
   ],
   "source": [
    "# Getting the average ratings of restaurants without table booking\n",
    "\n",
    "# first we get the data of all restuarants with table booking\n",
    "restaurant_without_TB = new_data[new_data['Has Table booking']=='No']\n",
    "\n",
    "# Getting the average ratings of restaurants with table booking\n",
    "avg_rating_restaurants_without_TB = restaurant_without_TB.groupby('Restaurant Name')['Aggregate rating'].mean()\n",
    "\n",
    "# Getting the overall average of the restaurants without table booking\n",
    "meanOfThe_avg_rating_restaurants_without_TB = avg_rating_restaurants_without_TB.reset_index(name='Aggregate rating')['Aggregate rating'].mean()\n",
    "meanOfThe_avg_rating_restaurants_without_TB\n"
   ]
  },
  {
   "cell_type": "markdown",
   "metadata": {},
   "source": [
    "Restaurants with table booking have an overall average rating of 3.44 while those without table booking had an overall average rating of 2.51.\n",
    "\n",
    "This could suggest that the presence of adopting table booking could have had an influence in the rating behaviours of customers as on the average, restaurants having table booking are likely to have high rating compared to those that do not."
   ]
  },
  {
   "cell_type": "markdown",
   "metadata": {},
   "source": [
    "**3. Analyzing the availability of online delivery among restaurants with different price ranges**"
   ]
  },
  {
   "cell_type": "code",
   "execution_count": 11,
   "metadata": {},
   "outputs": [
    {
     "data": {
      "text/plain": [
       "Has Online delivery  Price range\n",
       "No                   1              3743\n",
       "                     2              1827\n",
       "                     3               997\n",
       "                     4               533\n",
       "Yes                  2              1286\n",
       "                     1               701\n",
       "                     3               411\n",
       "                     4                53\n",
       "Name: count, dtype: int64"
      ]
     },
     "execution_count": 11,
     "metadata": {},
     "output_type": "execute_result"
    }
   ],
   "source": [
    "od_to_pr_check = new_data.groupby('Has Online delivery')['Price range'].value_counts()\n",
    "od_to_pr_check"
   ]
  },
  {
   "cell_type": "code",
   "execution_count": 12,
   "metadata": {},
   "outputs": [
    {
     "data": {
      "text/plain": [
       "Price range  Has Online delivery\n",
       "1            No                     3743\n",
       "             Yes                     701\n",
       "2            No                     1827\n",
       "             Yes                    1286\n",
       "3            No                      997\n",
       "             Yes                     411\n",
       "4            No                      533\n",
       "             Yes                      53\n",
       "Name: count, dtype: int64"
      ]
     },
     "execution_count": 12,
     "metadata": {},
     "output_type": "execute_result"
    }
   ],
   "source": [
    "pr_to_od_check = new_data.groupby('Price range')['Has Online delivery'].value_counts()\n",
    "pr_to_od_check"
   ]
  },
  {
   "cell_type": "markdown",
   "metadata": {},
   "source": [
    "**The above result suggests the following:**\n",
    "\n",
    "i.  There are more activities from restaurants with no online delivery irrespective of price range.\n",
    "\n",
    "ii. Price range 1 has the highest count for restaurants with no online delivery and the second highest count for restaurants with online delivery\n",
    "\n",
    "iii. Price range 2 has the second highest count for restaurants with no online delivery and the highest count for restaurants with online delivery\n",
    "\n",
    "iv. Price range 3 has the third highest count for both categories of restaurants with no online delivery and with online delivery\n",
    "\n",
    "v. Price range 4 has the least count for both categories of reataurants with no online delivery and with online delivery\n",
    "\n",
    "**Potential Insights:**\n",
    "\n",
    "i. Price Range Distribution: Restaurants that offer online delivery tend to have lower counts in the more expensive price ranges (3 and 4) compared to those that do not offer online delivery with an exception of price range of 2 of which could be studied further on why it has much activities compared to others.\n",
    "\n",
    "ii. Market Segmentation: There might be a market trend where more affordable or mid-range price restaurants are more likely to offer online delivery. Conversely, higher-priced restaurants may not have online delivery options as frequently.\n",
    "\n",
    "iii. Business Strategy: This distribution could reflect different business models or customer preferences. Restaurants with higher price ranges might cater to a different clientele or focus more on in-person dining experiences rather than online delivery."
   ]
  }
 ],
 "metadata": {
  "kernelspec": {
   "display_name": "Python 3",
   "language": "python",
   "name": "python3"
  },
  "language_info": {
   "codemirror_mode": {
    "name": "ipython",
    "version": 3
   },
   "file_extension": ".py",
   "mimetype": "text/x-python",
   "name": "python",
   "nbconvert_exporter": "python",
   "pygments_lexer": "ipython3",
   "version": "3.10.6"
  }
 },
 "nbformat": 4,
 "nbformat_minor": 2
}
