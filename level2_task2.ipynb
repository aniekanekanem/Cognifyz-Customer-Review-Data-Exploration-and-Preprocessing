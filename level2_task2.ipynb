{
 "cells": [
  {
   "cell_type": "markdown",
   "metadata": {},
   "source": [
    "**Task 2: Price Range Analysis**\n",
    "\n",
    "Task list:\n",
    "\n",
    "1. Determine the most common price range among all the restaurants.\n",
    "\n",
    "2. Calculate the average rating for each price range.\n",
    "\n",
    "3. Identify the color that represents the highest average rating among different price ranges."
   ]
  },
  {
   "cell_type": "code",
   "execution_count": 125,
   "metadata": {},
   "outputs": [],
   "source": [
    "import pandas as pd"
   ]
  },
  {
   "cell_type": "code",
   "execution_count": 126,
   "metadata": {},
   "outputs": [],
   "source": [
    "new_data = pd.read_csv(\"new_data.csv\")"
   ]
  },
  {
   "cell_type": "markdown",
   "metadata": {},
   "source": [
    "**1. Getting the most common price range among all the restaurants**"
   ]
  },
  {
   "cell_type": "code",
   "execution_count": 127,
   "metadata": {},
   "outputs": [
    {
     "data": {
      "text/html": [
       "<div>\n",
       "<style scoped>\n",
       "    .dataframe tbody tr th:only-of-type {\n",
       "        vertical-align: middle;\n",
       "    }\n",
       "\n",
       "    .dataframe tbody tr th {\n",
       "        vertical-align: top;\n",
       "    }\n",
       "\n",
       "    .dataframe thead th {\n",
       "        text-align: right;\n",
       "    }\n",
       "</style>\n",
       "<table border=\"1\" class=\"dataframe\">\n",
       "  <thead>\n",
       "    <tr style=\"text-align: right;\">\n",
       "      <th></th>\n",
       "      <th>Price range</th>\n",
       "      <th>Count</th>\n",
       "    </tr>\n",
       "  </thead>\n",
       "  <tbody>\n",
       "    <tr>\n",
       "      <th>0</th>\n",
       "      <td>1</td>\n",
       "      <td>4444</td>\n",
       "    </tr>\n",
       "    <tr>\n",
       "      <th>1</th>\n",
       "      <td>2</td>\n",
       "      <td>3113</td>\n",
       "    </tr>\n",
       "    <tr>\n",
       "      <th>2</th>\n",
       "      <td>3</td>\n",
       "      <td>1408</td>\n",
       "    </tr>\n",
       "    <tr>\n",
       "      <th>3</th>\n",
       "      <td>4</td>\n",
       "      <td>586</td>\n",
       "    </tr>\n",
       "  </tbody>\n",
       "</table>\n",
       "</div>"
      ],
      "text/plain": [
       "   Price range  Count\n",
       "0            1   4444\n",
       "1            2   3113\n",
       "2            3   1408\n",
       "3            4    586"
      ]
     },
     "execution_count": 127,
     "metadata": {},
     "output_type": "execute_result"
    }
   ],
   "source": [
    "common_price_range_check = new_data['Price range'].value_counts().reset_index(name='Count')\n",
    "common_price_range_check"
   ]
  },
  {
   "cell_type": "markdown",
   "metadata": {},
   "source": [
    "The result above suggests that the most common price range is '1'"
   ]
  },
  {
   "cell_type": "markdown",
   "metadata": {},
   "source": [
    "**2. Calculating the average rating for each price range**"
   ]
  },
  {
   "cell_type": "code",
   "execution_count": 128,
   "metadata": {},
   "outputs": [
    {
     "data": {
      "text/html": [
       "<div>\n",
       "<style scoped>\n",
       "    .dataframe tbody tr th:only-of-type {\n",
       "        vertical-align: middle;\n",
       "    }\n",
       "\n",
       "    .dataframe tbody tr th {\n",
       "        vertical-align: top;\n",
       "    }\n",
       "\n",
       "    .dataframe thead th {\n",
       "        text-align: right;\n",
       "    }\n",
       "</style>\n",
       "<table border=\"1\" class=\"dataframe\">\n",
       "  <thead>\n",
       "    <tr style=\"text-align: right;\">\n",
       "      <th></th>\n",
       "      <th>Price range</th>\n",
       "      <th>Average rating</th>\n",
       "    </tr>\n",
       "  </thead>\n",
       "  <tbody>\n",
       "    <tr>\n",
       "      <th>0</th>\n",
       "      <td>1</td>\n",
       "      <td>2.0</td>\n",
       "    </tr>\n",
       "    <tr>\n",
       "      <th>1</th>\n",
       "      <td>2</td>\n",
       "      <td>2.9</td>\n",
       "    </tr>\n",
       "    <tr>\n",
       "      <th>2</th>\n",
       "      <td>3</td>\n",
       "      <td>3.7</td>\n",
       "    </tr>\n",
       "    <tr>\n",
       "      <th>3</th>\n",
       "      <td>4</td>\n",
       "      <td>3.8</td>\n",
       "    </tr>\n",
       "  </tbody>\n",
       "</table>\n",
       "</div>"
      ],
      "text/plain": [
       "   Price range  Average rating\n",
       "0            1             2.0\n",
       "1            2             2.9\n",
       "2            3             3.7\n",
       "3            4             3.8"
      ]
     },
     "execution_count": 128,
     "metadata": {},
     "output_type": "execute_result"
    }
   ],
   "source": [
    "avg_rating_byPriceRange = round(new_data.groupby('Price range')['Aggregate rating'].mean(), 1).reset_index(name='Average rating')\n",
    "avg_rating_byPriceRange"
   ]
  },
  {
   "cell_type": "markdown",
   "metadata": {},
   "source": [
    "The result above shows that the order of increasing rating is proportional to the order of increasing price range of a restaurant.  So that on the average, higher-priced restaurants tend to have the best customer rating compared to the others and least-priced restaurants tend to have the least ratings."
   ]
  },
  {
   "cell_type": "markdown",
   "metadata": {},
   "source": [
    "**3. Identifying the color that represents the highest average rating among different price ranges**"
   ]
  },
  {
   "cell_type": "code",
   "execution_count": 129,
   "metadata": {},
   "outputs": [
    {
     "data": {
      "text/html": [
       "<div>\n",
       "<style scoped>\n",
       "    .dataframe tbody tr th:only-of-type {\n",
       "        vertical-align: middle;\n",
       "    }\n",
       "\n",
       "    .dataframe tbody tr th {\n",
       "        vertical-align: top;\n",
       "    }\n",
       "\n",
       "    .dataframe thead th {\n",
       "        text-align: right;\n",
       "    }\n",
       "</style>\n",
       "<table border=\"1\" class=\"dataframe\">\n",
       "  <thead>\n",
       "    <tr style=\"text-align: right;\">\n",
       "      <th></th>\n",
       "      <th>Price range</th>\n",
       "      <th>Aggregate rating</th>\n",
       "      <th>Rating color</th>\n",
       "    </tr>\n",
       "  </thead>\n",
       "  <tbody>\n",
       "    <tr>\n",
       "      <th>0</th>\n",
       "      <td>3</td>\n",
       "      <td>4.8</td>\n",
       "      <td>Dark Green</td>\n",
       "    </tr>\n",
       "    <tr>\n",
       "      <th>1</th>\n",
       "      <td>3</td>\n",
       "      <td>4.5</td>\n",
       "      <td>Dark Green</td>\n",
       "    </tr>\n",
       "    <tr>\n",
       "      <th>2</th>\n",
       "      <td>4</td>\n",
       "      <td>4.4</td>\n",
       "      <td>Green</td>\n",
       "    </tr>\n",
       "    <tr>\n",
       "      <th>3</th>\n",
       "      <td>4</td>\n",
       "      <td>4.9</td>\n",
       "      <td>Dark Green</td>\n",
       "    </tr>\n",
       "    <tr>\n",
       "      <th>4</th>\n",
       "      <td>4</td>\n",
       "      <td>4.8</td>\n",
       "      <td>Dark Green</td>\n",
       "    </tr>\n",
       "    <tr>\n",
       "      <th>...</th>\n",
       "      <td>...</td>\n",
       "      <td>...</td>\n",
       "      <td>...</td>\n",
       "    </tr>\n",
       "    <tr>\n",
       "      <th>9546</th>\n",
       "      <td>3</td>\n",
       "      <td>4.1</td>\n",
       "      <td>Green</td>\n",
       "    </tr>\n",
       "    <tr>\n",
       "      <th>9547</th>\n",
       "      <td>3</td>\n",
       "      <td>4.2</td>\n",
       "      <td>Green</td>\n",
       "    </tr>\n",
       "    <tr>\n",
       "      <th>9548</th>\n",
       "      <td>4</td>\n",
       "      <td>3.7</td>\n",
       "      <td>Yellow</td>\n",
       "    </tr>\n",
       "    <tr>\n",
       "      <th>9549</th>\n",
       "      <td>4</td>\n",
       "      <td>4.0</td>\n",
       "      <td>Green</td>\n",
       "    </tr>\n",
       "    <tr>\n",
       "      <th>9550</th>\n",
       "      <td>2</td>\n",
       "      <td>4.0</td>\n",
       "      <td>Green</td>\n",
       "    </tr>\n",
       "  </tbody>\n",
       "</table>\n",
       "<p>9551 rows × 3 columns</p>\n",
       "</div>"
      ],
      "text/plain": [
       "      Price range  Aggregate rating Rating color\n",
       "0               3               4.8   Dark Green\n",
       "1               3               4.5   Dark Green\n",
       "2               4               4.4        Green\n",
       "3               4               4.9   Dark Green\n",
       "4               4               4.8   Dark Green\n",
       "...           ...               ...          ...\n",
       "9546            3               4.1        Green\n",
       "9547            3               4.2        Green\n",
       "9548            4               3.7       Yellow\n",
       "9549            4               4.0        Green\n",
       "9550            2               4.0        Green\n",
       "\n",
       "[9551 rows x 3 columns]"
      ]
     },
     "execution_count": 129,
     "metadata": {},
     "output_type": "execute_result"
    }
   ],
   "source": [
    "checkForColorBasedOnRatingAndPriceRange = new_data[['Price range', 'Aggregate rating', 'Rating color']]\n",
    "checkForColorBasedOnRatingAndPriceRange"
   ]
  },
  {
   "cell_type": "code",
   "execution_count": 130,
   "metadata": {},
   "outputs": [
    {
     "data": {
      "text/html": [
       "<div>\n",
       "<style scoped>\n",
       "    .dataframe tbody tr th:only-of-type {\n",
       "        vertical-align: middle;\n",
       "    }\n",
       "\n",
       "    .dataframe tbody tr th {\n",
       "        vertical-align: top;\n",
       "    }\n",
       "\n",
       "    .dataframe thead th {\n",
       "        text-align: right;\n",
       "    }\n",
       "</style>\n",
       "<table border=\"1\" class=\"dataframe\">\n",
       "  <thead>\n",
       "    <tr style=\"text-align: right;\">\n",
       "      <th></th>\n",
       "      <th>Price range</th>\n",
       "      <th>Aggregate rating</th>\n",
       "      <th>Rating color</th>\n",
       "    </tr>\n",
       "  </thead>\n",
       "  <tbody>\n",
       "    <tr>\n",
       "      <th>1395</th>\n",
       "      <td>1</td>\n",
       "      <td>2.0</td>\n",
       "      <td>Red</td>\n",
       "    </tr>\n",
       "    <tr>\n",
       "      <th>5197</th>\n",
       "      <td>1</td>\n",
       "      <td>2.0</td>\n",
       "      <td>Red</td>\n",
       "    </tr>\n",
       "    <tr>\n",
       "      <th>7706</th>\n",
       "      <td>2</td>\n",
       "      <td>2.0</td>\n",
       "      <td>Red</td>\n",
       "    </tr>\n",
       "    <tr>\n",
       "      <th>8532</th>\n",
       "      <td>2</td>\n",
       "      <td>2.0</td>\n",
       "      <td>Red</td>\n",
       "    </tr>\n",
       "    <tr>\n",
       "      <th>9104</th>\n",
       "      <td>1</td>\n",
       "      <td>2.0</td>\n",
       "      <td>Red</td>\n",
       "    </tr>\n",
       "    <tr>\n",
       "      <th>9105</th>\n",
       "      <td>4</td>\n",
       "      <td>2.0</td>\n",
       "      <td>Red</td>\n",
       "    </tr>\n",
       "    <tr>\n",
       "      <th>9106</th>\n",
       "      <td>3</td>\n",
       "      <td>2.0</td>\n",
       "      <td>Red</td>\n",
       "    </tr>\n",
       "  </tbody>\n",
       "</table>\n",
       "</div>"
      ],
      "text/plain": [
       "      Price range  Aggregate rating Rating color\n",
       "1395            1               2.0          Red\n",
       "5197            1               2.0          Red\n",
       "7706            2               2.0          Red\n",
       "8532            2               2.0          Red\n",
       "9104            1               2.0          Red\n",
       "9105            4               2.0          Red\n",
       "9106            3               2.0          Red"
      ]
     },
     "execution_count": 130,
     "metadata": {},
     "output_type": "execute_result"
    }
   ],
   "source": [
    "# Test to Identify the color representing each average rating based on the price ranges\n",
    "'''\n",
    "The highest average rating for 'Price range 1' is 2.0\n",
    "The highest average rating for 'Price range 2' is 2.94\n",
    "The highest average rating for 'Price range 3' is 3.68\n",
    "The highest average rating for 'Price range 4' is 3.82\n",
    "'''\n",
    "\n",
    "colorForAverageRatingForPriceRange1 = checkForColorBasedOnRatingAndPriceRange[checkForColorBasedOnRatingAndPriceRange['Aggregate rating']==2]\n",
    "colorForAverageRatingForPriceRange1"
   ]
  },
  {
   "cell_type": "markdown",
   "metadata": {},
   "source": [
    "We can see from the above that the color representing the highest average rating being 2.0 for Price range 1 is 'Red'.  Now for carrying out the color identification, the code below will be adopted."
   ]
  },
  {
   "cell_type": "code",
   "execution_count": 131,
   "metadata": {},
   "outputs": [
    {
     "data": {
      "text/plain": [
       "{4.8: 'Dark Green',\n",
       " 4.5: 'Dark Green',\n",
       " 4.4: 'Green',\n",
       " 4.9: 'Dark Green',\n",
       " 4.0: 'Green',\n",
       " 4.2: 'Green',\n",
       " 4.3: 'Green',\n",
       " 3.6: 'Yellow',\n",
       " 4.7: 'Dark Green',\n",
       " 3.0: 'Orange',\n",
       " 3.8: 'Yellow',\n",
       " 3.7: 'Yellow',\n",
       " 3.2: 'Orange',\n",
       " 3.1: 'Orange',\n",
       " 0.0: 'White',\n",
       " 4.1: 'Green',\n",
       " 3.3: 'Orange',\n",
       " 4.6: 'Dark Green',\n",
       " 3.9: 'Yellow',\n",
       " 3.4: 'Orange',\n",
       " 3.5: 'Yellow',\n",
       " 2.2: 'Red',\n",
       " 2.9: 'Orange',\n",
       " 2.4: 'Red',\n",
       " 2.6: 'Orange',\n",
       " 2.8: 'Orange',\n",
       " 2.1: 'Red',\n",
       " 2.7: 'Orange',\n",
       " 2.5: 'Orange',\n",
       " 1.8: 'Red',\n",
       " 2.0: 'Red',\n",
       " 2.3: 'Red',\n",
       " 1.9: 'Red'}"
      ]
     },
     "execution_count": 131,
     "metadata": {},
     "output_type": "execute_result"
    }
   ],
   "source": [
    "# Map of rating to color\n",
    "rating_to_color = new_data.drop_duplicates().set_index('Aggregate rating')['Rating color'].to_dict()\n",
    "rating_to_color"
   ]
  },
  {
   "cell_type": "code",
   "execution_count": 132,
   "metadata": {},
   "outputs": [
    {
     "data": {
      "text/plain": [
       "0       Red\n",
       "1    Orange\n",
       "2    Yellow\n",
       "3    Yellow\n",
       "Name: Average rating, dtype: object"
      ]
     },
     "execution_count": 132,
     "metadata": {},
     "output_type": "execute_result"
    }
   ],
   "source": [
    "# Find the color for each highest average rating\n",
    "highest_ratings_colors = avg_rating_byPriceRange['Average rating'].map(rating_to_color)\n",
    "highest_ratings_colors\n",
    "\n",
    "# for setting the index name of the Series\n",
    "# highest_ratings_colors.index.name = 'price_range'"
   ]
  },
  {
   "cell_type": "markdown",
   "metadata": {},
   "source": [
    "The above gives the corresponding rating color to the 'Average rating' but only display a series of the rating color without the corresponding 'Aggregate rating'.\n",
    "\n",
    "To get the full view of the Average rating color to the corresponding rating color, an improved mapping method is adopted below:"
   ]
  },
  {
   "cell_type": "code",
   "execution_count": 133,
   "metadata": {},
   "outputs": [
    {
     "name": "stdout",
     "output_type": "stream",
     "text": [
      "\n",
      "Final DataFrame with Colors:\n",
      "   Price range  Average rating   color\n",
      "0            1             2.0     Red\n",
      "1            2             2.9  Orange\n",
      "2            3             3.7  Yellow\n",
      "3            4             3.8  Yellow\n"
     ]
    }
   ],
   "source": [
    "# Improved mapping method\n",
    "\n",
    "# Convert the dictionary to a Series for mapping\n",
    "highest_ratings_colors = pd.Series(rating_to_color, name='color')\n",
    "\n",
    "# Map colors to the DataFrame based on the Average rating\n",
    "avg_rating_byPriceRange['color'] = avg_rating_byPriceRange['Average rating'].map(highest_ratings_colors)\n",
    "\n",
    "# Display the final DataFrame with the color mapping\n",
    "print(\"\\nFinal DataFrame with Colors:\")\n",
    "print(avg_rating_byPriceRange)"
   ]
  },
  {
   "cell_type": "code",
   "execution_count": 134,
   "metadata": {},
   "outputs": [
    {
     "name": "stdout",
     "output_type": "stream",
     "text": [
      "Average rating: 2.0, Color: Red\n",
      "Average rating: 2.9, Color: Orange\n",
      "Average rating: 3.7, Color: Yellow\n",
      "Average rating: 3.8, Color: Yellow\n"
     ]
    }
   ],
   "source": [
    "for index, row in avg_rating_byPriceRange.iterrows():\n",
    "    print(f\"Average rating: {row['Average rating']}, Color: {row['color']}\")"
   ]
  },
  {
   "cell_type": "code",
   "execution_count": 135,
   "metadata": {},
   "outputs": [
    {
     "data": {
      "text/plain": [
       "'\\nNote for educational purpose:\\n\\nCode snippet 1: \"highest_ratings_colors = avg_rating_byPriceRange[\\'Average rating\\'].map(rating_to_color)\" \\ncode snippet 2: \"highest_ratings_colors = avg_rating_byPriceRange.map(rating_to_color)\" \\n\\nCode snippet 1 works the same way as code snippet 2.  \\n\\nCode snippet 1 is used when the dataset \\'avg_rating_byPriceRange\\' already has its index reset.  This is because \\'avg_rating_byPriceRange\\' which is supposed to be indexed by \\'Price range\\' is now being indexed by unnamed column leading to the result as seen below:\\n\\n    Price range\\t    Average rating\\n0\\t1\\t            2.0\\n1\\t2\\t            2.9\\n2\\t3\\t            3.7\\n3\\t4\\t            3.8\\n\\nFor this reason, the \\'Average rating\\' column which is the reference point to map to the corresponding \\'rating_to_column\\' dictionary is indicated directly on the mapping.\\n\\nIf \\'avg_rating_byPriceRange\\' had been indexed by \\'Price range\\' leading to the result below which is now a series, then it could be mapped directly on the \\'rating_to_column\\' dictionary\\n\\nPrice range\\n1    2.0\\n2    2.9\\n3    3.7\\n4    3.8\\nName: Aggregate rating, dtype: float64\\n\\n'"
      ]
     },
     "execution_count": 135,
     "metadata": {},
     "output_type": "execute_result"
    }
   ],
   "source": [
    "'''\n",
    "Note for educational purpose:\n",
    "\n",
    "Code snippet 1: \"highest_ratings_colors = avg_rating_byPriceRange['Average rating'].map(rating_to_color)\" \n",
    "code snippet 2: \"highest_ratings_colors = avg_rating_byPriceRange.map(rating_to_color)\" \n",
    "\n",
    "Code snippet 1 works the same way as code snippet 2.  \n",
    "\n",
    "Code snippet 1 is used when the dataset 'avg_rating_byPriceRange' already has its index reset.  This is because 'avg_rating_byPriceRange' which is supposed to be indexed by 'Price range' is now being indexed by unnamed column leading to the result as seen below:\n",
    "\n",
    "    Price range\t    Average rating\n",
    "0\t1\t            2.0\n",
    "1\t2\t            2.9\n",
    "2\t3\t            3.7\n",
    "3\t4\t            3.8\n",
    "\n",
    "For this reason, the 'Average rating' column which is the reference point to map to the corresponding 'rating_to_column' dictionary is indicated directly on the mapping.\n",
    "\n",
    "If 'avg_rating_byPriceRange' had been indexed by 'Price range' leading to the result below which is now a series, then it could be mapped directly on the 'rating_to_column' dictionary\n",
    "\n",
    "Price range\n",
    "1    2.0\n",
    "2    2.9\n",
    "3    3.7\n",
    "4    3.8\n",
    "Name: Aggregate rating, dtype: float64\n",
    "\n",
    "'''"
   ]
  },
  {
   "cell_type": "markdown",
   "metadata": {},
   "source": [
    "**Conclusion**"
   ]
  },
  {
   "cell_type": "code",
   "execution_count": 138,
   "metadata": {},
   "outputs": [
    {
     "name": "stdout",
     "output_type": "stream",
     "text": [
      "For price range 1, the average rating is 2.0 corresponding to Red\n",
      "For price range 2, the average rating is 2.9 corresponding to Orange\n",
      "For price range 3, the average rating is 3.7 corresponding to Yellow\n",
      "For price range 4, the average rating is 3.8 corresponding to Yellow\n"
     ]
    }
   ],
   "source": [
    "for index, row in avg_rating_byPriceRange.iterrows():\n",
    "    print(f\"For price range {row['Price range']}, the average rating is {row['Average rating']} corresponding to {row['color']}\")\n"
   ]
  },
  {
   "cell_type": "markdown",
   "metadata": {},
   "source": [
    "This shows that the color that represents the highest average rating among different price ranges is Yellow"
   ]
  }
 ],
 "metadata": {
  "kernelspec": {
   "display_name": "Python 3",
   "language": "python",
   "name": "python3"
  },
  "language_info": {
   "codemirror_mode": {
    "name": "ipython",
    "version": 3
   },
   "file_extension": ".py",
   "mimetype": "text/x-python",
   "name": "python",
   "nbconvert_exporter": "python",
   "pygments_lexer": "ipython3",
   "version": "3.10.6"
  }
 },
 "nbformat": 4,
 "nbformat_minor": 2
}
