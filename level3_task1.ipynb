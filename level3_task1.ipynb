{
 "cells": [
  {
   "cell_type": "markdown",
   "metadata": {},
   "source": [
    "**Task 1: Predictive Modeling**\n",
    "\n",
    "**Task list:**\n",
    "\n",
    "1. Build a regression model to predict the aggregate rating of a restaurant based on available features.\n",
    "   - Split the dataset into training and testing sets and evaluate the model's performance using appropriate metrics.\n",
    "\n",
    "2. Experiment with different algorithms (e.g., linear regression, decision trees, random forest) and compare their performance.\n",
    "\n",
    "\n",
    "**Requirements:**\n",
    "\n",
    "The following will be required for building the different predictive models\n",
    "\n",
    "a.   **Data Preparation for feeding the model parameters neded to build the models**: train_test_split from sklearn.model_selection, StandardSCaler from sklearn.preprocessing, LabelEncoder from sklearn.preprocessing\n",
    "\n",
    "b.  **Linear regression**: LinearRegression from sklearn.linear_model, 'mean_squared_error, r2_score' from sklearn.metrics\n",
    "\n",
    "c. **Decision Tree Regression**: DecisionTreeRegressor from sklearn.tree\n",
    "\n",
    "d.  **Random Forest Regression**: RandomForestRegressor from sklearn.ensemble\n",
    "\n",
    "e. Comparing Performance"
   ]
  },
  {
   "cell_type": "markdown",
   "metadata": {},
   "source": [
    "**1.  Building a regression model to predict the aggregate rating of a restaurant based on Price range, Has Online delivery, and Has Table booking**\n",
    "\n",
    "a. Data Preparation\n"
   ]
  },
  {
   "cell_type": "code",
   "execution_count": 2,
   "metadata": {},
   "outputs": [],
   "source": [
    "# Importing libraries associated with data preparation for model building\n",
    "import pandas as pd\n",
    "from sklearn.preprocessing import LabelEncoder, StandardScaler\n",
    "from sklearn.model_selection import train_test_split\n",
    "\n",
    "# Importing the dataset\n",
    "new_data = pd.read_csv(\"new_data.csv\")"
   ]
  },
  {
   "cell_type": "code",
   "execution_count": 1,
   "metadata": {},
   "outputs": [
    {
     "data": {
      "text/plain": [
       "'\\n- To create a model we need to apply feature variable(s) on a target variable.\\n\\n- The target variable is the variable that is to be predicted.\\n\\n- The feature variable is the variable that is used to make the prediction on the target variable.\\n\\n- Aggregate rating is the target variable.\\n\\n- Price range, Has Online delivery, and Has Table booking are the Feature variables.\\n\\n- All variables must be numeric.  If they are not numeric, they must be encoded\\n'"
      ]
     },
     "execution_count": 1,
     "metadata": {},
     "output_type": "execute_result"
    }
   ],
   "source": [
    "# Note when creating the features and target\n",
    "'''\n",
    "- To create a model we need to apply feature variable(s) on a target variable.\n",
    "\n",
    "- The target variable is the variable that is to be predicted.\n",
    "\n",
    "- The feature variable is the variable that is used to make the prediction on the target variable.\n",
    "\n",
    "- Aggregate rating is the target variable.\n",
    "\n",
    "- Price range, Has Online delivery, and Has Table booking are the Feature variables.\n",
    "\n",
    "- All variables must be numeric.  If they are not numeric, they must be encoded\n",
    "'''"
   ]
  },
  {
   "cell_type": "code",
   "execution_count": 6,
   "metadata": {},
   "outputs": [
    {
     "data": {
      "text/html": [
       "<div>\n",
       "<style scoped>\n",
       "    .dataframe tbody tr th:only-of-type {\n",
       "        vertical-align: middle;\n",
       "    }\n",
       "\n",
       "    .dataframe tbody tr th {\n",
       "        vertical-align: top;\n",
       "    }\n",
       "\n",
       "    .dataframe thead th {\n",
       "        text-align: right;\n",
       "    }\n",
       "</style>\n",
       "<table border=\"1\" class=\"dataframe\">\n",
       "  <thead>\n",
       "    <tr style=\"text-align: right;\">\n",
       "      <th></th>\n",
       "      <th>Aggregate rating</th>\n",
       "      <th>Price range</th>\n",
       "      <th>Has Online delivery</th>\n",
       "      <th>Has Table booking</th>\n",
       "    </tr>\n",
       "  </thead>\n",
       "  <tbody>\n",
       "    <tr>\n",
       "      <th>0</th>\n",
       "      <td>4.8</td>\n",
       "      <td>3</td>\n",
       "      <td>No</td>\n",
       "      <td>Yes</td>\n",
       "    </tr>\n",
       "    <tr>\n",
       "      <th>1</th>\n",
       "      <td>4.5</td>\n",
       "      <td>3</td>\n",
       "      <td>No</td>\n",
       "      <td>Yes</td>\n",
       "    </tr>\n",
       "    <tr>\n",
       "      <th>2</th>\n",
       "      <td>4.4</td>\n",
       "      <td>4</td>\n",
       "      <td>No</td>\n",
       "      <td>Yes</td>\n",
       "    </tr>\n",
       "    <tr>\n",
       "      <th>3</th>\n",
       "      <td>4.9</td>\n",
       "      <td>4</td>\n",
       "      <td>No</td>\n",
       "      <td>No</td>\n",
       "    </tr>\n",
       "    <tr>\n",
       "      <th>4</th>\n",
       "      <td>4.8</td>\n",
       "      <td>4</td>\n",
       "      <td>No</td>\n",
       "      <td>Yes</td>\n",
       "    </tr>\n",
       "    <tr>\n",
       "      <th>...</th>\n",
       "      <td>...</td>\n",
       "      <td>...</td>\n",
       "      <td>...</td>\n",
       "      <td>...</td>\n",
       "    </tr>\n",
       "    <tr>\n",
       "      <th>9546</th>\n",
       "      <td>4.1</td>\n",
       "      <td>3</td>\n",
       "      <td>No</td>\n",
       "      <td>No</td>\n",
       "    </tr>\n",
       "    <tr>\n",
       "      <th>9547</th>\n",
       "      <td>4.2</td>\n",
       "      <td>3</td>\n",
       "      <td>No</td>\n",
       "      <td>No</td>\n",
       "    </tr>\n",
       "    <tr>\n",
       "      <th>9548</th>\n",
       "      <td>3.7</td>\n",
       "      <td>4</td>\n",
       "      <td>No</td>\n",
       "      <td>No</td>\n",
       "    </tr>\n",
       "    <tr>\n",
       "      <th>9549</th>\n",
       "      <td>4.0</td>\n",
       "      <td>4</td>\n",
       "      <td>No</td>\n",
       "      <td>No</td>\n",
       "    </tr>\n",
       "    <tr>\n",
       "      <th>9550</th>\n",
       "      <td>4.0</td>\n",
       "      <td>2</td>\n",
       "      <td>No</td>\n",
       "      <td>No</td>\n",
       "    </tr>\n",
       "  </tbody>\n",
       "</table>\n",
       "<p>9551 rows × 4 columns</p>\n",
       "</div>"
      ],
      "text/plain": [
       "      Aggregate rating  Price range Has Online delivery Has Table booking\n",
       "0                  4.8            3                  No               Yes\n",
       "1                  4.5            3                  No               Yes\n",
       "2                  4.4            4                  No               Yes\n",
       "3                  4.9            4                  No                No\n",
       "4                  4.8            4                  No               Yes\n",
       "...                ...          ...                 ...               ...\n",
       "9546               4.1            3                  No                No\n",
       "9547               4.2            3                  No                No\n",
       "9548               3.7            4                  No                No\n",
       "9549               4.0            4                  No                No\n",
       "9550               4.0            2                  No                No\n",
       "\n",
       "[9551 rows x 4 columns]"
      ]
     },
     "execution_count": 6,
     "metadata": {},
     "output_type": "execute_result"
    }
   ],
   "source": [
    "# Exploring the dataset with only the features and target variables in view\n",
    "feat_and_target = new_data[['Aggregate rating','Price range', 'Has Online delivery', 'Has Table booking']]\n",
    "feat_and_target"
   ]
  },
  {
   "cell_type": "code",
   "execution_count": 8,
   "metadata": {},
   "outputs": [
    {
     "name": "stderr",
     "output_type": "stream",
     "text": [
      "/tmp/ipykernel_3096338/1162349660.py:5: SettingWithCopyWarning: \n",
      "A value is trying to be set on a copy of a slice from a DataFrame.\n",
      "Try using .loc[row_indexer,col_indexer] = value instead\n",
      "\n",
      "See the caveats in the documentation: https://pandas.pydata.org/pandas-docs/stable/user_guide/indexing.html#returning-a-view-versus-a-copy\n",
      "  feat_and_target['Has Online Delivery Encoded'] = LabelEncoder().fit_transform(feat_and_target['Has Online delivery'])\n",
      "/tmp/ipykernel_3096338/1162349660.py:7: SettingWithCopyWarning: \n",
      "A value is trying to be set on a copy of a slice from a DataFrame.\n",
      "Try using .loc[row_indexer,col_indexer] = value instead\n",
      "\n",
      "See the caveats in the documentation: https://pandas.pydata.org/pandas-docs/stable/user_guide/indexing.html#returning-a-view-versus-a-copy\n",
      "  feat_and_target['Has Table Booking Encoded'] = LabelEncoder().fit_transform(feat_and_target['Has Table booking'])\n"
     ]
    },
    {
     "data": {
      "text/html": [
       "<div>\n",
       "<style scoped>\n",
       "    .dataframe tbody tr th:only-of-type {\n",
       "        vertical-align: middle;\n",
       "    }\n",
       "\n",
       "    .dataframe tbody tr th {\n",
       "        vertical-align: top;\n",
       "    }\n",
       "\n",
       "    .dataframe thead th {\n",
       "        text-align: right;\n",
       "    }\n",
       "</style>\n",
       "<table border=\"1\" class=\"dataframe\">\n",
       "  <thead>\n",
       "    <tr style=\"text-align: right;\">\n",
       "      <th></th>\n",
       "      <th>Aggregate rating</th>\n",
       "      <th>Price range</th>\n",
       "      <th>Has Online delivery</th>\n",
       "      <th>Has Table booking</th>\n",
       "      <th>Has Online Delivery Encoded</th>\n",
       "      <th>Has Table Booking Encoded</th>\n",
       "    </tr>\n",
       "  </thead>\n",
       "  <tbody>\n",
       "    <tr>\n",
       "      <th>0</th>\n",
       "      <td>4.8</td>\n",
       "      <td>3</td>\n",
       "      <td>No</td>\n",
       "      <td>Yes</td>\n",
       "      <td>0</td>\n",
       "      <td>1</td>\n",
       "    </tr>\n",
       "    <tr>\n",
       "      <th>1</th>\n",
       "      <td>4.5</td>\n",
       "      <td>3</td>\n",
       "      <td>No</td>\n",
       "      <td>Yes</td>\n",
       "      <td>0</td>\n",
       "      <td>1</td>\n",
       "    </tr>\n",
       "    <tr>\n",
       "      <th>2</th>\n",
       "      <td>4.4</td>\n",
       "      <td>4</td>\n",
       "      <td>No</td>\n",
       "      <td>Yes</td>\n",
       "      <td>0</td>\n",
       "      <td>1</td>\n",
       "    </tr>\n",
       "    <tr>\n",
       "      <th>3</th>\n",
       "      <td>4.9</td>\n",
       "      <td>4</td>\n",
       "      <td>No</td>\n",
       "      <td>No</td>\n",
       "      <td>0</td>\n",
       "      <td>0</td>\n",
       "    </tr>\n",
       "    <tr>\n",
       "      <th>4</th>\n",
       "      <td>4.8</td>\n",
       "      <td>4</td>\n",
       "      <td>No</td>\n",
       "      <td>Yes</td>\n",
       "      <td>0</td>\n",
       "      <td>1</td>\n",
       "    </tr>\n",
       "    <tr>\n",
       "      <th>...</th>\n",
       "      <td>...</td>\n",
       "      <td>...</td>\n",
       "      <td>...</td>\n",
       "      <td>...</td>\n",
       "      <td>...</td>\n",
       "      <td>...</td>\n",
       "    </tr>\n",
       "    <tr>\n",
       "      <th>9546</th>\n",
       "      <td>4.1</td>\n",
       "      <td>3</td>\n",
       "      <td>No</td>\n",
       "      <td>No</td>\n",
       "      <td>0</td>\n",
       "      <td>0</td>\n",
       "    </tr>\n",
       "    <tr>\n",
       "      <th>9547</th>\n",
       "      <td>4.2</td>\n",
       "      <td>3</td>\n",
       "      <td>No</td>\n",
       "      <td>No</td>\n",
       "      <td>0</td>\n",
       "      <td>0</td>\n",
       "    </tr>\n",
       "    <tr>\n",
       "      <th>9548</th>\n",
       "      <td>3.7</td>\n",
       "      <td>4</td>\n",
       "      <td>No</td>\n",
       "      <td>No</td>\n",
       "      <td>0</td>\n",
       "      <td>0</td>\n",
       "    </tr>\n",
       "    <tr>\n",
       "      <th>9549</th>\n",
       "      <td>4.0</td>\n",
       "      <td>4</td>\n",
       "      <td>No</td>\n",
       "      <td>No</td>\n",
       "      <td>0</td>\n",
       "      <td>0</td>\n",
       "    </tr>\n",
       "    <tr>\n",
       "      <th>9550</th>\n",
       "      <td>4.0</td>\n",
       "      <td>2</td>\n",
       "      <td>No</td>\n",
       "      <td>No</td>\n",
       "      <td>0</td>\n",
       "      <td>0</td>\n",
       "    </tr>\n",
       "  </tbody>\n",
       "</table>\n",
       "<p>9551 rows × 6 columns</p>\n",
       "</div>"
      ],
      "text/plain": [
       "      Aggregate rating  Price range Has Online delivery Has Table booking  \\\n",
       "0                  4.8            3                  No               Yes   \n",
       "1                  4.5            3                  No               Yes   \n",
       "2                  4.4            4                  No               Yes   \n",
       "3                  4.9            4                  No                No   \n",
       "4                  4.8            4                  No               Yes   \n",
       "...                ...          ...                 ...               ...   \n",
       "9546               4.1            3                  No                No   \n",
       "9547               4.2            3                  No                No   \n",
       "9548               3.7            4                  No                No   \n",
       "9549               4.0            4                  No                No   \n",
       "9550               4.0            2                  No                No   \n",
       "\n",
       "      Has Online Delivery Encoded  Has Table Booking Encoded  \n",
       "0                               0                          1  \n",
       "1                               0                          1  \n",
       "2                               0                          1  \n",
       "3                               0                          0  \n",
       "4                               0                          1  \n",
       "...                           ...                        ...  \n",
       "9546                            0                          0  \n",
       "9547                            0                          0  \n",
       "9548                            0                          0  \n",
       "9549                            0                          0  \n",
       "9550                            0                          0  \n",
       "\n",
       "[9551 rows x 6 columns]"
      ]
     },
     "execution_count": 8,
     "metadata": {},
     "output_type": "execute_result"
    }
   ],
   "source": [
    "# Data encoding\n",
    "\n",
    "'''\n",
    "The feature variables (Has Online delivery and Has Table booking) are categorical and needs to be encoded to become numerical variables\n",
    "'''\n",
    "\n",
    "feat_and_target['Has Online Delivery Encoded'] = LabelEncoder().fit_transform(feat_and_target['Has Online delivery'])\n",
    "\n",
    "feat_and_target['Has Table Booking Encoded'] = LabelEncoder().fit_transform(feat_and_target['Has Table booking'])\n",
    "\n",
    "feat_and_target"
   ]
  },
  {
   "cell_type": "code",
   "execution_count": 10,
   "metadata": {},
   "outputs": [],
   "source": [
    "# Selecting only the features and target variables\n",
    "X = feat_and_target[['Price range', 'Has Online Delivery Encoded', 'Has Table Booking Encoded']] # Feature variables\n",
    "y = feat_and_target['Aggregate rating'] # Target variables\n",
    "\n",
    "# Splitting the data\n",
    "X_train, X_test, y_train, y_test = train_test_split(X, y, test_size=0.2, random_state=0)\n",
    "\n",
    "# Feature scaling\n",
    "scaler = StandardScaler()\n",
    "X_train_scaled = scaler.fit_transform(X_train)\n",
    "X_test_scaled = scaler.transform(X_test)"
   ]
  },
  {
   "cell_type": "markdown",
   "metadata": {},
   "source": [
    "Data preparation done.  Next is to create a model, example, linear, decision tree, and random forest."
   ]
  },
  {
   "cell_type": "markdown",
   "metadata": {},
   "source": [
    "b. Building a Linear Regression model"
   ]
  },
  {
   "cell_type": "code",
   "execution_count": 11,
   "metadata": {},
   "outputs": [
    {
     "name": "stdout",
     "output_type": "stream",
     "text": [
      "Linear Regression MSE: 1.78\n",
      "Linear Regression R^2: 0.25\n"
     ]
    }
   ],
   "source": [
    "# Importing libraries associated with building linear regression models\n",
    "from sklearn.linear_model import LinearRegression\n",
    "from sklearn.metrics import mean_squared_error, r2_score\n",
    "\n",
    "# Initialize and train model\n",
    "lr = LinearRegression() # Model initialization\n",
    "lr.fit(X_train_scaled, y_train) # Training the model\n",
    "\n",
    "# Making the Predictions\n",
    "y_pred_lr = lr.predict(X_test_scaled)\n",
    "\n",
    "# Performing metrics\n",
    "mse_lr = mean_squared_error(y_test, y_pred_lr)\n",
    "r2_lr = r2_score(y_test, y_pred_lr)\n",
    "\n",
    "print(f'Linear Regression MSE: {mse_lr:.2f}')\n",
    "print(f'Linear Regression R^2: {r2_lr:.2f}')\n"
   ]
  },
  {
   "cell_type": "markdown",
   "metadata": {},
   "source": [
    "c. Buliding a Decision Tree Regression Model"
   ]
  },
  {
   "cell_type": "code",
   "execution_count": 12,
   "metadata": {},
   "outputs": [
    {
     "name": "stdout",
     "output_type": "stream",
     "text": [
      "Decision Tree MSE: 1.73\n",
      "Decision Tree R^2: 0.27\n"
     ]
    }
   ],
   "source": [
    "# Importing libraries necessary for building a decision tree regression model\n",
    "from sklearn.tree import DecisionTreeRegressor\n",
    "\n",
    "# Initialize and train model\n",
    "dt = DecisionTreeRegressor(random_state=0)\n",
    "dt.fit(X_train, y_train)\n",
    "\n",
    "# Predictions\n",
    "y_pred_dt = dt.predict(X_test)\n",
    "\n",
    "# Performance metrics\n",
    "mse_dt = mean_squared_error(y_test, y_pred_dt)\n",
    "r2_dt = r2_score(y_test, y_pred_dt)\n",
    "\n",
    "print(f'Decision Tree MSE: {mse_dt:.2f}')\n",
    "print(f'Decision Tree R^2: {r2_dt:.2f}')"
   ]
  },
  {
   "cell_type": "markdown",
   "metadata": {},
   "source": [
    "d. Building a random forest regression model"
   ]
  },
  {
   "cell_type": "code",
   "execution_count": 13,
   "metadata": {},
   "outputs": [
    {
     "name": "stdout",
     "output_type": "stream",
     "text": [
      "Random Forest MSE: 1.73\n",
      "Random Forest R^2: 0.27\n"
     ]
    }
   ],
   "source": [
    "# Importing libraries necessary for building a random forest regression model\n",
    "from sklearn.ensemble import RandomForestRegressor\n",
    "\n",
    "# Initialize and train model\n",
    "rf = RandomForestRegressor(n_estimators=100, random_state=0)\n",
    "rf.fit(X_train, y_train)\n",
    "\n",
    "# Prediction\n",
    "y_pred_rf = rf.predict(X_test)\n",
    "\n",
    "# Performance metrics\n",
    "mse_rf = mean_squared_error(y_test, y_pred_rf)\n",
    "r2_rf = r2_score(y_test, y_pred_rf)\n",
    "\n",
    "print(f'Random Forest MSE: {mse_rf:.2f}')\n",
    "print(f'Random Forest R^2: {r2_rf:.2f}')"
   ]
  },
  {
   "cell_type": "markdown",
   "metadata": {},
   "source": [
    "e. Comparing Performance\n",
    "\n",
    "The performance of the various models built is observed from Mean Squared Error (MSE) and R-squared (R^2) values.\n",
    "\n",
    "Lower MSE and higher R^2 indicate better model performance."
   ]
  },
  {
   "cell_type": "code",
   "execution_count": 16,
   "metadata": {},
   "outputs": [
    {
     "name": "stdout",
     "output_type": "stream",
     "text": [
      "Linear Regression MSE_lr: 1.78\n",
      "Linear Regression R^2_lr: 0.25\n",
      "Decision Tree Regression MSE_dt:1.73\n",
      "Decision Tree Regression R^2_dt: 0.27\n",
      "Random Forest Regression MSE_rf: 1.73\n",
      "Ranmdom Forest Regression R^2_rf: 0.27\n"
     ]
    }
   ],
   "source": [
    "# Results of the models\n",
    "print(f\"Linear Regression MSE_lr: {mse_lr:.2f}\")\n",
    "print(f\"Linear Regression R^2_lr: {r2_lr:.2f}\")\n",
    "print(f\"Decision Tree Regression MSE_dt:{mse_dt:.2f}\")\n",
    "print(f\"Decision Tree Regression R^2_dt: {r2_dt:.2f}\")\n",
    "print(f\"Random Forest Regression MSE_rf: {mse_rf:.2f}\")\n",
    "print(f\"Ranmdom Forest Regression R^2_rf: {r2_rf:.2f}\")"
   ]
  },
  {
   "cell_type": "markdown",
   "metadata": {},
   "source": [
    "From the above result 1.73 on the Mean Square Error section is the lowest and 0.27 on the R-squared section is the highest.  This suggests that both the Decision Tree Regression model and the Random Forest Regression model has the best predictive performance than the Linear Regression model."
   ]
  }
 ],
 "metadata": {
  "kernelspec": {
   "display_name": "Python 3",
   "language": "python",
   "name": "python3"
  },
  "language_info": {
   "codemirror_mode": {
    "name": "ipython",
    "version": 3
   },
   "file_extension": ".py",
   "mimetype": "text/x-python",
   "name": "python",
   "nbconvert_exporter": "python",
   "pygments_lexer": "ipython3",
   "version": "3.10.6"
  }
 },
 "nbformat": 4,
 "nbformat_minor": 2
}
